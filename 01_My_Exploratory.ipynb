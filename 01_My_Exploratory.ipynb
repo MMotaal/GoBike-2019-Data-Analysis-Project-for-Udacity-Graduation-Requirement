{
 "cells": [
  {
   "cell_type": "markdown",
   "metadata": {},
   "source": [
    "# GoBike\n",
    "## by Mohamed Abd El Motaal Mohamed \n",
    "\n",
    "## Preliminary Wrangling\n",
    "\n",
    "> In this file of JupytherNotebook a dataset containing data Gobike information collected from a bike renting company is explored. The dataset has a number of 183412 observations and 16 features, including information about the durations of rides, stations at which the rides is started and likewise the stations at which the rides end. In addition to data about the rideres and useres such as birthdate gender and type if subscriber or customer."
   ]
  },
  {
   "cell_type": "code",
   "execution_count": 1,
   "metadata": {},
   "outputs": [],
   "source": [
    "# import all packages and set plots to be embedded inline\n",
    "import numpy as np\n",
    "import pandas as pd\n",
    "import matplotlib.pyplot as plt\n",
    "import seaborn as sb\n",
    "import calendar\n",
    "import math\n",
    "import time\n",
    "from datetime import datetime\n",
    "import calendar\n",
    "%matplotlib inline"
   ]
  },
  {
   "cell_type": "code",
   "execution_count": 2,
   "metadata": {},
   "outputs": [],
   "source": [
    "# Import Ford GoBike csv file into jupyter notebook\n",
    "gobike = pd.read_csv('C:\\\\Users\\\\Motaal\\\\Desktop\\\\PYTHON\\\\201902-fordgobike-tripdata.csv',encoding= 'cp1252')"
   ]
  },
  {
   "cell_type": "code",
   "execution_count": 3,
   "metadata": {},
   "outputs": [
    {
     "data": {
      "text/html": [
       "<div>\n",
       "<style scoped>\n",
       "    .dataframe tbody tr th:only-of-type {\n",
       "        vertical-align: middle;\n",
       "    }\n",
       "\n",
       "    .dataframe tbody tr th {\n",
       "        vertical-align: top;\n",
       "    }\n",
       "\n",
       "    .dataframe thead th {\n",
       "        text-align: right;\n",
       "    }\n",
       "</style>\n",
       "<table border=\"1\" class=\"dataframe\">\n",
       "  <thead>\n",
       "    <tr style=\"text-align: right;\">\n",
       "      <th></th>\n",
       "      <th>duration_sec</th>\n",
       "      <th>start_time</th>\n",
       "      <th>end_time</th>\n",
       "      <th>start_station_id</th>\n",
       "      <th>start_station_name</th>\n",
       "      <th>start_station_latitude</th>\n",
       "      <th>start_station_longitude</th>\n",
       "      <th>end_station_id</th>\n",
       "      <th>end_station_name</th>\n",
       "      <th>end_station_latitude</th>\n",
       "      <th>end_station_longitude</th>\n",
       "      <th>bike_id</th>\n",
       "      <th>user_type</th>\n",
       "      <th>member_birth_year</th>\n",
       "      <th>member_gender</th>\n",
       "      <th>bike_share_for_all_trip</th>\n",
       "    </tr>\n",
       "  </thead>\n",
       "  <tbody>\n",
       "    <tr>\n",
       "      <th>0</th>\n",
       "      <td>52185</td>\n",
       "      <td>2019-02-28 17:32:10.1450</td>\n",
       "      <td>2019-03-01 08:01:55.9750</td>\n",
       "      <td>21.0</td>\n",
       "      <td>Montgomery St BART Station (Market St at 2nd St)</td>\n",
       "      <td>37.789625</td>\n",
       "      <td>-122.400811</td>\n",
       "      <td>13.0</td>\n",
       "      <td>Commercial St at Montgomery St</td>\n",
       "      <td>37.794231</td>\n",
       "      <td>-122.402923</td>\n",
       "      <td>4902</td>\n",
       "      <td>Customer</td>\n",
       "      <td>1984.0</td>\n",
       "      <td>Male</td>\n",
       "      <td>No</td>\n",
       "    </tr>\n",
       "    <tr>\n",
       "      <th>1</th>\n",
       "      <td>42521</td>\n",
       "      <td>2019-02-28 18:53:21.7890</td>\n",
       "      <td>2019-03-01 06:42:03.0560</td>\n",
       "      <td>23.0</td>\n",
       "      <td>The Embarcadero at Steuart St</td>\n",
       "      <td>37.791464</td>\n",
       "      <td>-122.391034</td>\n",
       "      <td>81.0</td>\n",
       "      <td>Berry St at 4th St</td>\n",
       "      <td>37.775880</td>\n",
       "      <td>-122.393170</td>\n",
       "      <td>2535</td>\n",
       "      <td>Customer</td>\n",
       "      <td>NaN</td>\n",
       "      <td>NaN</td>\n",
       "      <td>No</td>\n",
       "    </tr>\n",
       "    <tr>\n",
       "      <th>2</th>\n",
       "      <td>61854</td>\n",
       "      <td>2019-02-28 12:13:13.2180</td>\n",
       "      <td>2019-03-01 05:24:08.1460</td>\n",
       "      <td>86.0</td>\n",
       "      <td>Market St at Dolores St</td>\n",
       "      <td>37.769305</td>\n",
       "      <td>-122.426826</td>\n",
       "      <td>3.0</td>\n",
       "      <td>Powell St BART Station (Market St at 4th St)</td>\n",
       "      <td>37.786375</td>\n",
       "      <td>-122.404904</td>\n",
       "      <td>5905</td>\n",
       "      <td>Customer</td>\n",
       "      <td>1972.0</td>\n",
       "      <td>Male</td>\n",
       "      <td>No</td>\n",
       "    </tr>\n",
       "    <tr>\n",
       "      <th>3</th>\n",
       "      <td>36490</td>\n",
       "      <td>2019-02-28 17:54:26.0100</td>\n",
       "      <td>2019-03-01 04:02:36.8420</td>\n",
       "      <td>375.0</td>\n",
       "      <td>Grove St at Masonic Ave</td>\n",
       "      <td>37.774836</td>\n",
       "      <td>-122.446546</td>\n",
       "      <td>70.0</td>\n",
       "      <td>Central Ave at Fell St</td>\n",
       "      <td>37.773311</td>\n",
       "      <td>-122.444293</td>\n",
       "      <td>6638</td>\n",
       "      <td>Subscriber</td>\n",
       "      <td>1989.0</td>\n",
       "      <td>Other</td>\n",
       "      <td>No</td>\n",
       "    </tr>\n",
       "    <tr>\n",
       "      <th>4</th>\n",
       "      <td>1585</td>\n",
       "      <td>2019-02-28 23:54:18.5490</td>\n",
       "      <td>2019-03-01 00:20:44.0740</td>\n",
       "      <td>7.0</td>\n",
       "      <td>Frank H Ogawa Plaza</td>\n",
       "      <td>37.804562</td>\n",
       "      <td>-122.271738</td>\n",
       "      <td>222.0</td>\n",
       "      <td>10th Ave at E 15th St</td>\n",
       "      <td>37.792714</td>\n",
       "      <td>-122.248780</td>\n",
       "      <td>4898</td>\n",
       "      <td>Subscriber</td>\n",
       "      <td>1974.0</td>\n",
       "      <td>Male</td>\n",
       "      <td>Yes</td>\n",
       "    </tr>\n",
       "  </tbody>\n",
       "</table>\n",
       "</div>"
      ],
      "text/plain": [
       "   duration_sec                start_time                  end_time  \\\n",
       "0         52185  2019-02-28 17:32:10.1450  2019-03-01 08:01:55.9750   \n",
       "1         42521  2019-02-28 18:53:21.7890  2019-03-01 06:42:03.0560   \n",
       "2         61854  2019-02-28 12:13:13.2180  2019-03-01 05:24:08.1460   \n",
       "3         36490  2019-02-28 17:54:26.0100  2019-03-01 04:02:36.8420   \n",
       "4          1585  2019-02-28 23:54:18.5490  2019-03-01 00:20:44.0740   \n",
       "\n",
       "   start_station_id                                start_station_name  \\\n",
       "0              21.0  Montgomery St BART Station (Market St at 2nd St)   \n",
       "1              23.0                     The Embarcadero at Steuart St   \n",
       "2              86.0                           Market St at Dolores St   \n",
       "3             375.0                           Grove St at Masonic Ave   \n",
       "4               7.0                               Frank H Ogawa Plaza   \n",
       "\n",
       "   start_station_latitude  start_station_longitude  end_station_id  \\\n",
       "0               37.789625              -122.400811            13.0   \n",
       "1               37.791464              -122.391034            81.0   \n",
       "2               37.769305              -122.426826             3.0   \n",
       "3               37.774836              -122.446546            70.0   \n",
       "4               37.804562              -122.271738           222.0   \n",
       "\n",
       "                               end_station_name  end_station_latitude  \\\n",
       "0                Commercial St at Montgomery St             37.794231   \n",
       "1                            Berry St at 4th St             37.775880   \n",
       "2  Powell St BART Station (Market St at 4th St)             37.786375   \n",
       "3                        Central Ave at Fell St             37.773311   \n",
       "4                         10th Ave at E 15th St             37.792714   \n",
       "\n",
       "   end_station_longitude  bike_id   user_type  member_birth_year  \\\n",
       "0            -122.402923     4902    Customer             1984.0   \n",
       "1            -122.393170     2535    Customer                NaN   \n",
       "2            -122.404904     5905    Customer             1972.0   \n",
       "3            -122.444293     6638  Subscriber             1989.0   \n",
       "4            -122.248780     4898  Subscriber             1974.0   \n",
       "\n",
       "  member_gender bike_share_for_all_trip  \n",
       "0          Male                      No  \n",
       "1           NaN                      No  \n",
       "2          Male                      No  \n",
       "3         Other                      No  \n",
       "4          Male                     Yes  "
      ]
     },
     "execution_count": 3,
     "metadata": {},
     "output_type": "execute_result"
    }
   ],
   "source": [
    "gobike.head()"
   ]
  },
  {
   "cell_type": "code",
   "execution_count": 4,
   "metadata": {},
   "outputs": [],
   "source": [
    "#remove all rows containing data that are missed.\n",
    "gobike=gobike.dropna()"
   ]
  },
  {
   "cell_type": "code",
   "execution_count": 5,
   "metadata": {},
   "outputs": [
    {
     "name": "stdout",
     "output_type": "stream",
     "text": [
      "<class 'pandas.core.frame.DataFrame'>\n",
      "Int64Index: 174952 entries, 0 to 183411\n",
      "Data columns (total 16 columns):\n",
      " #   Column                   Non-Null Count   Dtype  \n",
      "---  ------                   --------------   -----  \n",
      " 0   duration_sec             174952 non-null  int64  \n",
      " 1   start_time               174952 non-null  object \n",
      " 2   end_time                 174952 non-null  object \n",
      " 3   start_station_id         174952 non-null  float64\n",
      " 4   start_station_name       174952 non-null  object \n",
      " 5   start_station_latitude   174952 non-null  float64\n",
      " 6   start_station_longitude  174952 non-null  float64\n",
      " 7   end_station_id           174952 non-null  float64\n",
      " 8   end_station_name         174952 non-null  object \n",
      " 9   end_station_latitude     174952 non-null  float64\n",
      " 10  end_station_longitude    174952 non-null  float64\n",
      " 11  bike_id                  174952 non-null  int64  \n",
      " 12  user_type                174952 non-null  object \n",
      " 13  member_birth_year        174952 non-null  float64\n",
      " 14  member_gender            174952 non-null  object \n",
      " 15  bike_share_for_all_trip  174952 non-null  object \n",
      "dtypes: float64(7), int64(2), object(7)\n",
      "memory usage: 22.7+ MB\n"
     ]
    }
   ],
   "source": [
    "gobike.info()"
   ]
  },
  {
   "cell_type": "code",
   "execution_count": 6,
   "metadata": {},
   "outputs": [],
   "source": [
    "# The time variables in this dataset are all of string type.\n",
    "gobike['start_time']= pd.to_datetime(gobike.start_time)\n",
    "gobike['end_time']  = pd.to_datetime(gobike.end_time)\n",
    "# calculating age\n",
    "gobike['age'] = gobike['member_birth_year'].apply(lambda x: int(2021 - x))\n",
    "# converting age into integer\n",
    "gobike['age']=gobike['age'].astype(int)\n",
    "# convert all ids into intgers\n",
    "gobike['start_station_id']=gobike['start_station_id'].astype(int)\n",
    "gobike['end_station_id']=gobike['end_station_id'].astype(int)\n",
    "gobike['bike_id']=gobike['bike_id'].astype(int)\n"
   ]
  },
  {
   "cell_type": "code",
   "execution_count": 7,
   "metadata": {},
   "outputs": [],
   "source": [
    "# Which day of the week has the ride been recorded on the start of the ride?\n",
    "# First create a map of abbreiviations\n",
    "dmap = {0:'Sat',1:'Sun', 2:'Mon',3:'Tue',4:'Wed',5:'Thu',6:'Fri'}\n",
    "gobike['start_day_num'] = gobike['start_time'].apply(lambda time: time.dayofweek)\n",
    "gobike['start_weekday_char'] = gobike['start_day_num'].map(dmap)\n",
    "\n",
    "\n",
    "#  Which day of the week has the ride been recorded at the end of the ride?\n",
    "# First create a map of abbreiviations\n",
    "dmap = {0:'Sat',1:'Sun', 2:'Mon',3:'Tue',4:'Wed',5:'Thu',6:'Fri'}\n",
    "gobike['end_day_num'] = gobike['end_time'].apply(lambda time: time.dayofweek)\n",
    "gobike['end_weekday_char'] = gobike['end_day_num'].map(dmap)"
   ]
  },
  {
   "cell_type": "code",
   "execution_count": 8,
   "metadata": {},
   "outputs": [
    {
     "data": {
      "text/html": [
       "<div>\n",
       "<style scoped>\n",
       "    .dataframe tbody tr th:only-of-type {\n",
       "        vertical-align: middle;\n",
       "    }\n",
       "\n",
       "    .dataframe tbody tr th {\n",
       "        vertical-align: top;\n",
       "    }\n",
       "\n",
       "    .dataframe thead th {\n",
       "        text-align: right;\n",
       "    }\n",
       "</style>\n",
       "<table border=\"1\" class=\"dataframe\">\n",
       "  <thead>\n",
       "    <tr style=\"text-align: right;\">\n",
       "      <th></th>\n",
       "      <th>duration_sec</th>\n",
       "      <th>start_time</th>\n",
       "      <th>end_time</th>\n",
       "      <th>start_station_id</th>\n",
       "      <th>start_station_name</th>\n",
       "      <th>start_station_latitude</th>\n",
       "      <th>start_station_longitude</th>\n",
       "      <th>end_station_id</th>\n",
       "      <th>end_station_name</th>\n",
       "      <th>end_station_latitude</th>\n",
       "      <th>...</th>\n",
       "      <th>bike_id</th>\n",
       "      <th>user_type</th>\n",
       "      <th>member_birth_year</th>\n",
       "      <th>member_gender</th>\n",
       "      <th>bike_share_for_all_trip</th>\n",
       "      <th>age</th>\n",
       "      <th>start_day_num</th>\n",
       "      <th>start_weekday_char</th>\n",
       "      <th>end_day_num</th>\n",
       "      <th>end_weekday_char</th>\n",
       "    </tr>\n",
       "  </thead>\n",
       "  <tbody>\n",
       "    <tr>\n",
       "      <th>0</th>\n",
       "      <td>52185</td>\n",
       "      <td>2019-02-28 17:32:10.145</td>\n",
       "      <td>2019-03-01 08:01:55.975</td>\n",
       "      <td>21</td>\n",
       "      <td>Montgomery St BART Station (Market St at 2nd St)</td>\n",
       "      <td>37.789625</td>\n",
       "      <td>-122.400811</td>\n",
       "      <td>13</td>\n",
       "      <td>Commercial St at Montgomery St</td>\n",
       "      <td>37.794231</td>\n",
       "      <td>...</td>\n",
       "      <td>4902</td>\n",
       "      <td>Customer</td>\n",
       "      <td>1984.0</td>\n",
       "      <td>Male</td>\n",
       "      <td>No</td>\n",
       "      <td>37</td>\n",
       "      <td>3</td>\n",
       "      <td>Tue</td>\n",
       "      <td>4</td>\n",
       "      <td>Wed</td>\n",
       "    </tr>\n",
       "    <tr>\n",
       "      <th>2</th>\n",
       "      <td>61854</td>\n",
       "      <td>2019-02-28 12:13:13.218</td>\n",
       "      <td>2019-03-01 05:24:08.146</td>\n",
       "      <td>86</td>\n",
       "      <td>Market St at Dolores St</td>\n",
       "      <td>37.769305</td>\n",
       "      <td>-122.426826</td>\n",
       "      <td>3</td>\n",
       "      <td>Powell St BART Station (Market St at 4th St)</td>\n",
       "      <td>37.786375</td>\n",
       "      <td>...</td>\n",
       "      <td>5905</td>\n",
       "      <td>Customer</td>\n",
       "      <td>1972.0</td>\n",
       "      <td>Male</td>\n",
       "      <td>No</td>\n",
       "      <td>49</td>\n",
       "      <td>3</td>\n",
       "      <td>Tue</td>\n",
       "      <td>4</td>\n",
       "      <td>Wed</td>\n",
       "    </tr>\n",
       "    <tr>\n",
       "      <th>3</th>\n",
       "      <td>36490</td>\n",
       "      <td>2019-02-28 17:54:26.010</td>\n",
       "      <td>2019-03-01 04:02:36.842</td>\n",
       "      <td>375</td>\n",
       "      <td>Grove St at Masonic Ave</td>\n",
       "      <td>37.774836</td>\n",
       "      <td>-122.446546</td>\n",
       "      <td>70</td>\n",
       "      <td>Central Ave at Fell St</td>\n",
       "      <td>37.773311</td>\n",
       "      <td>...</td>\n",
       "      <td>6638</td>\n",
       "      <td>Subscriber</td>\n",
       "      <td>1989.0</td>\n",
       "      <td>Other</td>\n",
       "      <td>No</td>\n",
       "      <td>32</td>\n",
       "      <td>3</td>\n",
       "      <td>Tue</td>\n",
       "      <td>4</td>\n",
       "      <td>Wed</td>\n",
       "    </tr>\n",
       "    <tr>\n",
       "      <th>4</th>\n",
       "      <td>1585</td>\n",
       "      <td>2019-02-28 23:54:18.549</td>\n",
       "      <td>2019-03-01 00:20:44.074</td>\n",
       "      <td>7</td>\n",
       "      <td>Frank H Ogawa Plaza</td>\n",
       "      <td>37.804562</td>\n",
       "      <td>-122.271738</td>\n",
       "      <td>222</td>\n",
       "      <td>10th Ave at E 15th St</td>\n",
       "      <td>37.792714</td>\n",
       "      <td>...</td>\n",
       "      <td>4898</td>\n",
       "      <td>Subscriber</td>\n",
       "      <td>1974.0</td>\n",
       "      <td>Male</td>\n",
       "      <td>Yes</td>\n",
       "      <td>47</td>\n",
       "      <td>3</td>\n",
       "      <td>Tue</td>\n",
       "      <td>4</td>\n",
       "      <td>Wed</td>\n",
       "    </tr>\n",
       "    <tr>\n",
       "      <th>5</th>\n",
       "      <td>1793</td>\n",
       "      <td>2019-02-28 23:49:58.632</td>\n",
       "      <td>2019-03-01 00:19:51.760</td>\n",
       "      <td>93</td>\n",
       "      <td>4th St at Mission Bay Blvd S</td>\n",
       "      <td>37.770407</td>\n",
       "      <td>-122.391198</td>\n",
       "      <td>323</td>\n",
       "      <td>Broadway at Kearny</td>\n",
       "      <td>37.798014</td>\n",
       "      <td>...</td>\n",
       "      <td>5200</td>\n",
       "      <td>Subscriber</td>\n",
       "      <td>1959.0</td>\n",
       "      <td>Male</td>\n",
       "      <td>No</td>\n",
       "      <td>62</td>\n",
       "      <td>3</td>\n",
       "      <td>Tue</td>\n",
       "      <td>4</td>\n",
       "      <td>Wed</td>\n",
       "    </tr>\n",
       "  </tbody>\n",
       "</table>\n",
       "<p>5 rows × 21 columns</p>\n",
       "</div>"
      ],
      "text/plain": [
       "   duration_sec              start_time                end_time  \\\n",
       "0         52185 2019-02-28 17:32:10.145 2019-03-01 08:01:55.975   \n",
       "2         61854 2019-02-28 12:13:13.218 2019-03-01 05:24:08.146   \n",
       "3         36490 2019-02-28 17:54:26.010 2019-03-01 04:02:36.842   \n",
       "4          1585 2019-02-28 23:54:18.549 2019-03-01 00:20:44.074   \n",
       "5          1793 2019-02-28 23:49:58.632 2019-03-01 00:19:51.760   \n",
       "\n",
       "   start_station_id                                start_station_name  \\\n",
       "0                21  Montgomery St BART Station (Market St at 2nd St)   \n",
       "2                86                           Market St at Dolores St   \n",
       "3               375                           Grove St at Masonic Ave   \n",
       "4                 7                               Frank H Ogawa Plaza   \n",
       "5                93                      4th St at Mission Bay Blvd S   \n",
       "\n",
       "   start_station_latitude  start_station_longitude  end_station_id  \\\n",
       "0               37.789625              -122.400811              13   \n",
       "2               37.769305              -122.426826               3   \n",
       "3               37.774836              -122.446546              70   \n",
       "4               37.804562              -122.271738             222   \n",
       "5               37.770407              -122.391198             323   \n",
       "\n",
       "                               end_station_name  end_station_latitude  ...  \\\n",
       "0                Commercial St at Montgomery St             37.794231  ...   \n",
       "2  Powell St BART Station (Market St at 4th St)             37.786375  ...   \n",
       "3                        Central Ave at Fell St             37.773311  ...   \n",
       "4                         10th Ave at E 15th St             37.792714  ...   \n",
       "5                            Broadway at Kearny             37.798014  ...   \n",
       "\n",
       "   bike_id   user_type member_birth_year  member_gender  \\\n",
       "0     4902    Customer            1984.0           Male   \n",
       "2     5905    Customer            1972.0           Male   \n",
       "3     6638  Subscriber            1989.0          Other   \n",
       "4     4898  Subscriber            1974.0           Male   \n",
       "5     5200  Subscriber            1959.0           Male   \n",
       "\n",
       "  bike_share_for_all_trip age  start_day_num  start_weekday_char end_day_num  \\\n",
       "0                      No  37              3                 Tue           4   \n",
       "2                      No  49              3                 Tue           4   \n",
       "3                      No  32              3                 Tue           4   \n",
       "4                     Yes  47              3                 Tue           4   \n",
       "5                      No  62              3                 Tue           4   \n",
       "\n",
       "   end_weekday_char  \n",
       "0               Wed  \n",
       "2               Wed  \n",
       "3               Wed  \n",
       "4               Wed  \n",
       "5               Wed  \n",
       "\n",
       "[5 rows x 21 columns]"
      ]
     },
     "execution_count": 8,
     "metadata": {},
     "output_type": "execute_result"
    }
   ],
   "source": [
    "gobike.head()"
   ]
  },
  {
   "cell_type": "code",
   "execution_count": 9,
   "metadata": {},
   "outputs": [
    {
     "data": {
      "text/plain": [
       "0         Tue\n",
       "2         Tue\n",
       "3         Tue\n",
       "4         Tue\n",
       "5         Tue\n",
       "         ... \n",
       "183407    Wed\n",
       "183408    Wed\n",
       "183409    Wed\n",
       "183410    Wed\n",
       "183411    Wed\n",
       "Name: start_weekday_char, Length: 174952, dtype: object"
      ]
     },
     "execution_count": 9,
     "metadata": {},
     "output_type": "execute_result"
    }
   ],
   "source": [
    "gobike['start_weekday_char'][:]"
   ]
  },
  {
   "cell_type": "code",
   "execution_count": 10,
   "metadata": {},
   "outputs": [
    {
     "data": {
      "text/plain": [
       "0         Feb\n",
       "2         Feb\n",
       "3         Feb\n",
       "4         Feb\n",
       "5         Feb\n",
       "         ... \n",
       "183407    Feb\n",
       "183408    Feb\n",
       "183409    Feb\n",
       "183410    Feb\n",
       "183411    Feb\n",
       "Name: startted_month_letters, Length: 174952, dtype: object"
      ]
     },
     "execution_count": 10,
     "metadata": {},
     "output_type": "execute_result"
    }
   ],
   "source": [
    "# which month of the year\n",
    "gobike['started_at_month_num']   = gobike['start_time'].apply(lambda time: time.month)\n",
    "gobike['startted_month_letters'] = gobike['started_at_month_num'].apply(lambda x: calendar.month_abbr[x])\n",
    "gobike['startted_month_letters'][:]"
   ]
  },
  {
   "cell_type": "markdown",
   "metadata": {},
   "source": [
    "It seems as if all records are tken in the same month (Feb)."
   ]
  },
  {
   "cell_type": "code",
   "execution_count": 11,
   "metadata": {},
   "outputs": [
    {
     "data": {
      "text/plain": [
       "Feb    1.0\n",
       "Name: startted_month_letters, dtype: float64"
      ]
     },
     "execution_count": 11,
     "metadata": {},
     "output_type": "execute_result"
    }
   ],
   "source": [
    "gobike['startted_month_letters'].value_counts(normalize=True)"
   ]
  },
  {
   "cell_type": "code",
   "execution_count": 12,
   "metadata": {},
   "outputs": [
    {
     "name": "stderr",
     "output_type": "stream",
     "text": [
      "<ipython-input-12-5c837669a57b>:4: SettingWithCopyWarning: \n",
      "A value is trying to be set on a copy of a slice from a DataFrame\n",
      "\n",
      "See the caveats in the documentation: https://pandas.pydata.org/pandas-docs/stable/user_guide/indexing.html#returning-a-view-versus-a-copy\n",
      "  gobike['start_time_day'][(gobike['start_hr'] >= 12) & (gobike['start_hr'] <= 17)] = 'afternoon'\n",
      "<ipython-input-12-5c837669a57b>:5: SettingWithCopyWarning: \n",
      "A value is trying to be set on a copy of a slice from a DataFrame\n",
      "\n",
      "See the caveats in the documentation: https://pandas.pydata.org/pandas-docs/stable/user_guide/indexing.html#returning-a-view-versus-a-copy\n",
      "  gobike['start_time_day'][(gobike['start_hr'] >= 18) & (gobike['start_hr'] <= 23)] = 'night'\n",
      "<ipython-input-12-5c837669a57b>:11: SettingWithCopyWarning: \n",
      "A value is trying to be set on a copy of a slice from a DataFrame\n",
      "\n",
      "See the caveats in the documentation: https://pandas.pydata.org/pandas-docs/stable/user_guide/indexing.html#returning-a-view-versus-a-copy\n",
      "  gobike['end_time_day'][(gobike['end_hr'] >= 12) & (gobike['end_hr'] <= 17)] = 'afternoon'\n",
      "<ipython-input-12-5c837669a57b>:12: SettingWithCopyWarning: \n",
      "A value is trying to be set on a copy of a slice from a DataFrame\n",
      "\n",
      "See the caveats in the documentation: https://pandas.pydata.org/pandas-docs/stable/user_guide/indexing.html#returning-a-view-versus-a-copy\n",
      "  gobike['end_time_day'][(gobike['end_hr'] >= 18) & (gobike['end_hr'] <= 23)] = 'night'\n"
     ]
    }
   ],
   "source": [
    "# which interval of the day\n",
    "gobike['start_hr'] = gobike['start_time'].apply(lambda time: time.hour)\n",
    "gobike['start_time_day'] = 'morning'\n",
    "gobike['start_time_day'][(gobike['start_hr'] >= 12) & (gobike['start_hr'] <= 17)] = 'afternoon'\n",
    "gobike['start_time_day'][(gobike['start_hr'] >= 18) & (gobike['start_hr'] <= 23)] = 'night'\n",
    "\n",
    "\n",
    "# which interval of the day\n",
    "gobike['end_hr'] = gobike['end_time'].apply(lambda time: time.hour)\n",
    "gobike['end_time_day'] = 'morning'\n",
    "gobike['end_time_day'][(gobike['end_hr'] >= 12) & (gobike['end_hr'] <= 17)] = 'afternoon'\n",
    "gobike['end_time_day'][(gobike['end_hr'] >= 18) & (gobike['end_hr'] <= 23)] = 'night'"
   ]
  },
  {
   "cell_type": "markdown",
   "metadata": {},
   "source": [
    "Do some datacleaning to other featurs"
   ]
  },
  {
   "cell_type": "code",
   "execution_count": 13,
   "metadata": {},
   "outputs": [],
   "source": [
    "gobike['age']=gobike['age'].astype(int)\n",
    "gobike['start_station_id']=gobike['start_station_id'].astype(int)\n",
    "gobike['end_station_id']=gobike['end_station_id'].astype(int)\n",
    "gobike['duration_min']=gobike['duration_sec']/60\n",
    "gobike['bike_id']=gobike['bike_id'].astype(int)"
   ]
  },
  {
   "cell_type": "code",
   "execution_count": 14,
   "metadata": {},
   "outputs": [
    {
     "name": "stdout",
     "output_type": "stream",
     "text": [
      "<class 'pandas.core.frame.DataFrame'>\n",
      "Int64Index: 174952 entries, 0 to 183411\n",
      "Data columns (total 28 columns):\n",
      " #   Column                   Non-Null Count   Dtype         \n",
      "---  ------                   --------------   -----         \n",
      " 0   duration_sec             174952 non-null  int64         \n",
      " 1   start_time               174952 non-null  datetime64[ns]\n",
      " 2   end_time                 174952 non-null  datetime64[ns]\n",
      " 3   start_station_id         174952 non-null  int32         \n",
      " 4   start_station_name       174952 non-null  object        \n",
      " 5   start_station_latitude   174952 non-null  float64       \n",
      " 6   start_station_longitude  174952 non-null  float64       \n",
      " 7   end_station_id           174952 non-null  int32         \n",
      " 8   end_station_name         174952 non-null  object        \n",
      " 9   end_station_latitude     174952 non-null  float64       \n",
      " 10  end_station_longitude    174952 non-null  float64       \n",
      " 11  bike_id                  174952 non-null  int32         \n",
      " 12  user_type                174952 non-null  object        \n",
      " 13  member_birth_year        174952 non-null  float64       \n",
      " 14  member_gender            174952 non-null  object        \n",
      " 15  bike_share_for_all_trip  174952 non-null  object        \n",
      " 16  age                      174952 non-null  int32         \n",
      " 17  start_day_num            174952 non-null  int64         \n",
      " 18  start_weekday_char       174952 non-null  object        \n",
      " 19  end_day_num              174952 non-null  int64         \n",
      " 20  end_weekday_char         174952 non-null  object        \n",
      " 21  started_at_month_num     174952 non-null  int64         \n",
      " 22  startted_month_letters   174952 non-null  object        \n",
      " 23  start_hr                 174952 non-null  int64         \n",
      " 24  start_time_day           174952 non-null  object        \n",
      " 25  end_hr                   174952 non-null  int64         \n",
      " 26  end_time_day             174952 non-null  object        \n",
      " 27  duration_min             174952 non-null  float64       \n",
      "dtypes: datetime64[ns](2), float64(6), int32(4), int64(6), object(10)\n",
      "memory usage: 36.0+ MB\n"
     ]
    }
   ],
   "source": [
    "gobike.info()"
   ]
  },
  {
   "cell_type": "code",
   "execution_count": 15,
   "metadata": {},
   "outputs": [
    {
     "data": {
      "text/html": [
       "<div>\n",
       "<style scoped>\n",
       "    .dataframe tbody tr th:only-of-type {\n",
       "        vertical-align: middle;\n",
       "    }\n",
       "\n",
       "    .dataframe tbody tr th {\n",
       "        vertical-align: top;\n",
       "    }\n",
       "\n",
       "    .dataframe thead th {\n",
       "        text-align: right;\n",
       "    }\n",
       "</style>\n",
       "<table border=\"1\" class=\"dataframe\">\n",
       "  <thead>\n",
       "    <tr style=\"text-align: right;\">\n",
       "      <th></th>\n",
       "      <th>duration_sec</th>\n",
       "      <th>start_station_id</th>\n",
       "      <th>start_station_latitude</th>\n",
       "      <th>start_station_longitude</th>\n",
       "      <th>end_station_id</th>\n",
       "      <th>end_station_latitude</th>\n",
       "      <th>end_station_longitude</th>\n",
       "      <th>bike_id</th>\n",
       "      <th>member_birth_year</th>\n",
       "      <th>age</th>\n",
       "      <th>start_day_num</th>\n",
       "      <th>end_day_num</th>\n",
       "      <th>started_at_month_num</th>\n",
       "      <th>start_hr</th>\n",
       "      <th>end_hr</th>\n",
       "      <th>duration_min</th>\n",
       "    </tr>\n",
       "  </thead>\n",
       "  <tbody>\n",
       "    <tr>\n",
       "      <th>count</th>\n",
       "      <td>174952.000000</td>\n",
       "      <td>174952.000000</td>\n",
       "      <td>174952.000000</td>\n",
       "      <td>174952.000000</td>\n",
       "      <td>174952.000000</td>\n",
       "      <td>174952.000000</td>\n",
       "      <td>174952.000000</td>\n",
       "      <td>174952.000000</td>\n",
       "      <td>174952.000000</td>\n",
       "      <td>174952.000000</td>\n",
       "      <td>174952.000000</td>\n",
       "      <td>174952.000000</td>\n",
       "      <td>174952.0</td>\n",
       "      <td>174952.000000</td>\n",
       "      <td>174952.000000</td>\n",
       "      <td>174952.000000</td>\n",
       "    </tr>\n",
       "    <tr>\n",
       "      <th>mean</th>\n",
       "      <td>704.002744</td>\n",
       "      <td>139.002126</td>\n",
       "      <td>37.771220</td>\n",
       "      <td>-122.351760</td>\n",
       "      <td>136.604486</td>\n",
       "      <td>37.771414</td>\n",
       "      <td>-122.351335</td>\n",
       "      <td>4482.587555</td>\n",
       "      <td>1984.803135</td>\n",
       "      <td>36.196865</td>\n",
       "      <td>2.619953</td>\n",
       "      <td>2.620090</td>\n",
       "      <td>2.0</td>\n",
       "      <td>13.456165</td>\n",
       "      <td>13.609533</td>\n",
       "      <td>11.733379</td>\n",
       "    </tr>\n",
       "    <tr>\n",
       "      <th>std</th>\n",
       "      <td>1642.204905</td>\n",
       "      <td>111.648819</td>\n",
       "      <td>0.100391</td>\n",
       "      <td>0.117732</td>\n",
       "      <td>111.335635</td>\n",
       "      <td>0.100295</td>\n",
       "      <td>0.117294</td>\n",
       "      <td>1659.195937</td>\n",
       "      <td>10.118731</td>\n",
       "      <td>10.118731</td>\n",
       "      <td>1.808470</td>\n",
       "      <td>1.808667</td>\n",
       "      <td>0.0</td>\n",
       "      <td>4.734282</td>\n",
       "      <td>4.748029</td>\n",
       "      <td>27.370082</td>\n",
       "    </tr>\n",
       "    <tr>\n",
       "      <th>min</th>\n",
       "      <td>61.000000</td>\n",
       "      <td>3.000000</td>\n",
       "      <td>37.317298</td>\n",
       "      <td>-122.453704</td>\n",
       "      <td>3.000000</td>\n",
       "      <td>37.317298</td>\n",
       "      <td>-122.453704</td>\n",
       "      <td>11.000000</td>\n",
       "      <td>1878.000000</td>\n",
       "      <td>20.000000</td>\n",
       "      <td>0.000000</td>\n",
       "      <td>0.000000</td>\n",
       "      <td>2.0</td>\n",
       "      <td>0.000000</td>\n",
       "      <td>0.000000</td>\n",
       "      <td>1.016667</td>\n",
       "    </tr>\n",
       "    <tr>\n",
       "      <th>25%</th>\n",
       "      <td>323.000000</td>\n",
       "      <td>47.000000</td>\n",
       "      <td>37.770407</td>\n",
       "      <td>-122.411901</td>\n",
       "      <td>44.000000</td>\n",
       "      <td>37.770407</td>\n",
       "      <td>-122.411647</td>\n",
       "      <td>3799.000000</td>\n",
       "      <td>1980.000000</td>\n",
       "      <td>29.000000</td>\n",
       "      <td>1.000000</td>\n",
       "      <td>1.000000</td>\n",
       "      <td>2.0</td>\n",
       "      <td>9.000000</td>\n",
       "      <td>9.000000</td>\n",
       "      <td>5.383333</td>\n",
       "    </tr>\n",
       "    <tr>\n",
       "      <th>50%</th>\n",
       "      <td>510.000000</td>\n",
       "      <td>104.000000</td>\n",
       "      <td>37.780760</td>\n",
       "      <td>-122.398279</td>\n",
       "      <td>101.000000</td>\n",
       "      <td>37.781010</td>\n",
       "      <td>-122.397437</td>\n",
       "      <td>4960.000000</td>\n",
       "      <td>1987.000000</td>\n",
       "      <td>34.000000</td>\n",
       "      <td>3.000000</td>\n",
       "      <td>3.000000</td>\n",
       "      <td>2.0</td>\n",
       "      <td>14.000000</td>\n",
       "      <td>14.000000</td>\n",
       "      <td>8.500000</td>\n",
       "    </tr>\n",
       "    <tr>\n",
       "      <th>75%</th>\n",
       "      <td>789.000000</td>\n",
       "      <td>239.000000</td>\n",
       "      <td>37.797320</td>\n",
       "      <td>-122.283093</td>\n",
       "      <td>238.000000</td>\n",
       "      <td>37.797673</td>\n",
       "      <td>-122.286533</td>\n",
       "      <td>5505.000000</td>\n",
       "      <td>1992.000000</td>\n",
       "      <td>41.000000</td>\n",
       "      <td>4.000000</td>\n",
       "      <td>4.000000</td>\n",
       "      <td>2.0</td>\n",
       "      <td>17.000000</td>\n",
       "      <td>18.000000</td>\n",
       "      <td>13.150000</td>\n",
       "    </tr>\n",
       "    <tr>\n",
       "      <th>max</th>\n",
       "      <td>84548.000000</td>\n",
       "      <td>398.000000</td>\n",
       "      <td>37.880222</td>\n",
       "      <td>-121.874119</td>\n",
       "      <td>398.000000</td>\n",
       "      <td>37.880222</td>\n",
       "      <td>-121.874119</td>\n",
       "      <td>6645.000000</td>\n",
       "      <td>2001.000000</td>\n",
       "      <td>143.000000</td>\n",
       "      <td>6.000000</td>\n",
       "      <td>6.000000</td>\n",
       "      <td>2.0</td>\n",
       "      <td>23.000000</td>\n",
       "      <td>23.000000</td>\n",
       "      <td>1409.133333</td>\n",
       "    </tr>\n",
       "  </tbody>\n",
       "</table>\n",
       "</div>"
      ],
      "text/plain": [
       "        duration_sec  start_station_id  start_station_latitude  \\\n",
       "count  174952.000000     174952.000000           174952.000000   \n",
       "mean      704.002744        139.002126               37.771220   \n",
       "std      1642.204905        111.648819                0.100391   \n",
       "min        61.000000          3.000000               37.317298   \n",
       "25%       323.000000         47.000000               37.770407   \n",
       "50%       510.000000        104.000000               37.780760   \n",
       "75%       789.000000        239.000000               37.797320   \n",
       "max     84548.000000        398.000000               37.880222   \n",
       "\n",
       "       start_station_longitude  end_station_id  end_station_latitude  \\\n",
       "count            174952.000000   174952.000000         174952.000000   \n",
       "mean               -122.351760      136.604486             37.771414   \n",
       "std                   0.117732      111.335635              0.100295   \n",
       "min                -122.453704        3.000000             37.317298   \n",
       "25%                -122.411901       44.000000             37.770407   \n",
       "50%                -122.398279      101.000000             37.781010   \n",
       "75%                -122.283093      238.000000             37.797673   \n",
       "max                -121.874119      398.000000             37.880222   \n",
       "\n",
       "       end_station_longitude        bike_id  member_birth_year            age  \\\n",
       "count          174952.000000  174952.000000      174952.000000  174952.000000   \n",
       "mean             -122.351335    4482.587555        1984.803135      36.196865   \n",
       "std                 0.117294    1659.195937          10.118731      10.118731   \n",
       "min              -122.453704      11.000000        1878.000000      20.000000   \n",
       "25%              -122.411647    3799.000000        1980.000000      29.000000   \n",
       "50%              -122.397437    4960.000000        1987.000000      34.000000   \n",
       "75%              -122.286533    5505.000000        1992.000000      41.000000   \n",
       "max              -121.874119    6645.000000        2001.000000     143.000000   \n",
       "\n",
       "       start_day_num    end_day_num  started_at_month_num       start_hr  \\\n",
       "count  174952.000000  174952.000000              174952.0  174952.000000   \n",
       "mean        2.619953       2.620090                   2.0      13.456165   \n",
       "std         1.808470       1.808667                   0.0       4.734282   \n",
       "min         0.000000       0.000000                   2.0       0.000000   \n",
       "25%         1.000000       1.000000                   2.0       9.000000   \n",
       "50%         3.000000       3.000000                   2.0      14.000000   \n",
       "75%         4.000000       4.000000                   2.0      17.000000   \n",
       "max         6.000000       6.000000                   2.0      23.000000   \n",
       "\n",
       "              end_hr   duration_min  \n",
       "count  174952.000000  174952.000000  \n",
       "mean       13.609533      11.733379  \n",
       "std         4.748029      27.370082  \n",
       "min         0.000000       1.016667  \n",
       "25%         9.000000       5.383333  \n",
       "50%        14.000000       8.500000  \n",
       "75%        18.000000      13.150000  \n",
       "max        23.000000    1409.133333  "
      ]
     },
     "execution_count": 15,
     "metadata": {},
     "output_type": "execute_result"
    }
   ],
   "source": [
    "gobike.describe()"
   ]
  },
  {
   "cell_type": "code",
   "execution_count": null,
   "metadata": {},
   "outputs": [],
   "source": []
  },
  {
   "cell_type": "markdown",
   "metadata": {},
   "source": [
    "### What is the structure of your dataset?\n",
    "\n",
    "> This dataset describes a number of 174952 trips with 16 variables. These vriables are as givin in the list of columns with brief data describtion above.\n",
    "\n",
    "### What is/are the main feature(s) of interest in your dataset?\n",
    "\n",
    "\n",
    "Dataset is including information about the durations of rides, stations at which the rides is started and likewise the stations at which the rides end. In addition to data about the rideres and useres such as birthdate gender and type if subscriber or customer.\n",
    "\n",
    "\n",
    "\n",
    "### What features in the dataset do you think will help support your investigation into your feature(s) of interest?\n",
    "\n",
    "- To answer this question, important dates and time of trips,start_time and end_time are the most important data items.\n",
    " \n",
    "- Secon, I am intersted about the average duration for trips the \"duration_sec\" column is the one we are interest in the most.\n",
    " \n",
    "- Also, the type of user in column \"user_type\" is important to answer the third question about if the rider is a customer or sub scriber.\n"
   ]
  },
  {
   "cell_type": "markdown",
   "metadata": {},
   "source": [
    "## Univariate Exploration\n"
   ]
  },
  {
   "cell_type": "markdown",
   "metadata": {},
   "source": [
    "As a start, 'duration_sec' has an outlier values. this can be seen from min values and maxvalues passing through median and mean and finally standard deviation. this can be investigated as univirate at the first stage. Age seems also to has outliers since it's max value 143 it very possible tobe misstyped or false intry data that we should allso drop."
   ]
  },
  {
   "cell_type": "code",
   "execution_count": 16,
   "metadata": {},
   "outputs": [
    {
     "data": {
      "text/plain": [
       "Text(0.5, 1.0, 'duration after enhancements')"
      ]
     },
     "execution_count": 16,
     "metadata": {},
     "output_type": "execute_result"
    },
    {
     "data": {
      "image/png": "[encoded data removed]",
      "text/plain": [
       "<Figure size 841.68x595.44 with 2 Axes>"
      ]
     },
     "metadata": {
      "needs_background": "light"
     },
     "output_type": "display_data"
    }
   ],
   "source": [
    "plt.figure(figsize=[ 11.69, 8.27])\n",
    "plt.figure(1)\n",
    "bins=range(0,100,1)\n",
    "ax1=plt.subplot(1,2,1)\n",
    "plt.hist(data = gobike, x = 'duration_min');\n",
    "\n",
    "avglabl='Average={} minutes'.format(np.round(gobike['duration_min'].mean(),2))\n",
    "medlabl='Median ={} minutes'.format(np.round(gobike['duration_min'].median(),2))\n",
    "\n",
    "ax2=plt.subplot(1,2,2)\n",
    "plt.hist(data = gobike, x = 'duration_min',bins=bins);####\n",
    "# draw red dashed line to represent average\n",
    "plt.axvline( gobike['duration_min'].mean(),color='r',linestyle='--', label= avglabl);\n",
    "# draw green dashed line to represent the median\n",
    "plt.axvline( gobike['duration_min'].quantile(q=.5),color='g',linestyle='--', label= medlabl);\n",
    "plt.xlim(0,100);\n",
    "# a limit was set to the x values in addition to modifying the bins to capture a readable figure\n",
    "ax1.grid();\n",
    "ax2.grid();\n",
    "ax2.legend()\n",
    "ax1.set_title('duration before modification')\n",
    "ax2.set_title('duration after enhancements')"
   ]
  },
  {
   "cell_type": "markdown",
   "metadata": {},
   "source": [
    "> The first and second figure show how that the median which is 50% of the observations lie below, is approximately 8.5 minutes. This dissipates the importance of other values that extends in arange up to 600 miutes. This shows also how that large portion of the bike rideres are taking their bikes for short durations (less than 10 minutes) as will be discussed later on. "
   ]
  },
  {
   "cell_type": "markdown",
   "metadata": {},
   "source": []
  },
  {
   "cell_type": "code",
   "execution_count": 17,
   "metadata": {},
   "outputs": [
    {
     "data": {
      "text/html": [
       "<div>\n",
       "<style scoped>\n",
       "    .dataframe tbody tr th:only-of-type {\n",
       "        vertical-align: middle;\n",
       "    }\n",
       "\n",
       "    .dataframe tbody tr th {\n",
       "        vertical-align: top;\n",
       "    }\n",
       "\n",
       "    .dataframe thead th {\n",
       "        text-align: right;\n",
       "    }\n",
       "</style>\n",
       "<table border=\"1\" class=\"dataframe\">\n",
       "  <thead>\n",
       "    <tr style=\"text-align: right;\">\n",
       "      <th></th>\n",
       "      <th>duration_sec</th>\n",
       "      <th>start_time</th>\n",
       "      <th>end_time</th>\n",
       "      <th>start_station_id</th>\n",
       "      <th>start_station_name</th>\n",
       "      <th>start_station_latitude</th>\n",
       "      <th>start_station_longitude</th>\n",
       "      <th>end_station_id</th>\n",
       "      <th>end_station_name</th>\n",
       "      <th>end_station_latitude</th>\n",
       "      <th>...</th>\n",
       "      <th>start_weekday_char</th>\n",
       "      <th>end_day_num</th>\n",
       "      <th>end_weekday_char</th>\n",
       "      <th>started_at_month_num</th>\n",
       "      <th>startted_month_letters</th>\n",
       "      <th>start_hr</th>\n",
       "      <th>start_time_day</th>\n",
       "      <th>end_hr</th>\n",
       "      <th>end_time_day</th>\n",
       "      <th>duration_min</th>\n",
       "    </tr>\n",
       "  </thead>\n",
       "  <tbody>\n",
       "    <tr>\n",
       "      <th>27370</th>\n",
       "      <td>1474</td>\n",
       "      <td>2019-02-25 09:28:42.161</td>\n",
       "      <td>2019-02-25 09:53:17.068</td>\n",
       "      <td>15</td>\n",
       "      <td>San Francisco Ferry Building (Harry Bridges Pl...</td>\n",
       "      <td>37.795392</td>\n",
       "      <td>-122.394203</td>\n",
       "      <td>386</td>\n",
       "      <td>24th St at Bartlett St</td>\n",
       "      <td>37.752105</td>\n",
       "      <td>...</td>\n",
       "      <td>Sat</td>\n",
       "      <td>0</td>\n",
       "      <td>Sat</td>\n",
       "      <td>2</td>\n",
       "      <td>Feb</td>\n",
       "      <td>9</td>\n",
       "      <td>morning</td>\n",
       "      <td>9</td>\n",
       "      <td>morning</td>\n",
       "      <td>24.566667</td>\n",
       "    </tr>\n",
       "  </tbody>\n",
       "</table>\n",
       "<p>1 rows × 28 columns</p>\n",
       "</div>"
      ],
      "text/plain": [
       "       duration_sec              start_time                end_time  \\\n",
       "27370          1474 2019-02-25 09:28:42.161 2019-02-25 09:53:17.068   \n",
       "\n",
       "       start_station_id                                 start_station_name  \\\n",
       "27370                15  San Francisco Ferry Building (Harry Bridges Pl...   \n",
       "\n",
       "       start_station_latitude  start_station_longitude  end_station_id  \\\n",
       "27370               37.795392              -122.394203             386   \n",
       "\n",
       "             end_station_name  end_station_latitude  ...  start_weekday_char  \\\n",
       "27370  24th St at Bartlett St             37.752105  ...                 Sat   \n",
       "\n",
       "       end_day_num end_weekday_char  started_at_month_num  \\\n",
       "27370            0              Sat                     2   \n",
       "\n",
       "      startted_month_letters start_hr  start_time_day  end_hr end_time_day  \\\n",
       "27370                    Feb        9         morning       9      morning   \n",
       "\n",
       "       duration_min  \n",
       "27370     24.566667  \n",
       "\n",
       "[1 rows x 28 columns]"
      ]
     },
     "execution_count": 17,
     "metadata": {},
     "output_type": "execute_result"
    }
   ],
   "source": [
    "gobike[gobike['age'] == gobike.age.max()]\n"
   ]
  },
  {
   "cell_type": "code",
   "execution_count": 18,
   "metadata": {},
   "outputs": [
    {
     "data": {
      "text/plain": [
       "143"
      ]
     },
     "execution_count": 18,
     "metadata": {},
     "output_type": "execute_result"
    }
   ],
   "source": [
    "gobike.age.max()"
   ]
  },
  {
   "cell_type": "code",
   "execution_count": 19,
   "metadata": {},
   "outputs": [],
   "source": [
    "# exlude records with data that are unlogic such as durations that are greater than 10 hrs\n",
    "# and users that are greater or equal to 60 years old.\n",
    "gobike.drop(gobike[(gobike['duration_sec']>(60*60*10)) | (gobike['age']> 60)].index, inplace = True)"
   ]
  },
  {
   "cell_type": "code",
   "execution_count": 20,
   "metadata": {},
   "outputs": [
    {
     "data": {
      "text/plain": [
       "Text(0.5, 1.0, 'Age')"
      ]
     },
     "execution_count": 20,
     "metadata": {},
     "output_type": "execute_result"
    },
    {
     "data": {
      "image/png": "[encoded data removed]",
      "text/plain": [
       "<Figure size 841.68x595.44 with 1 Axes>"
      ]
     },
     "metadata": {
      "needs_background": "light"
     },
     "output_type": "display_data"
    }
   ],
   "source": [
    "plt.figure(figsize=[ 11.69, 8.27])\n",
    "\n",
    "plt.hist(data = gobike, x = 'age');\n",
    "# draw red dashed line to represent average\n",
    "avg_age_labl='Average_age={} years'.format(np.round(gobike['age'].mean(),2))\n",
    "med_age_labl='Median_age={} years'.format(np.round(gobike['age'].median(),2))\n",
    "plt.axvline( gobike['age'].mean(),color='r',linestyle='--', label = avg_age_labl);\n",
    "# draw green dashed line to represent the median\n",
    "plt.axvline( gobike['age'].quantile(q=.5),color='g',linestyle='--',label = med_age_labl);\n",
    "plt.legend(fontsize=12);\n",
    "plt.title('Age', fontsize=30)"
   ]
  },
  {
   "cell_type": "markdown",
   "metadata": {},
   "source": [
    "> Next, to have a look at other single variable which is gender type:"
   ]
  },
  {
   "cell_type": "code",
   "execution_count": 21,
   "metadata": {},
   "outputs": [
    {
     "name": "stderr",
     "output_type": "stream",
     "text": [
      "C:\\Users\\Motaal\\anaconda3\\lib\\site-packages\\seaborn\\_decorators.py:36: FutureWarning: Pass the following variable as a keyword arg: x. From version 0.12, the only valid positional argument will be `data`, and passing other arguments without an explicit keyword will result in an error or misinterpretation.\n",
      "  warnings.warn(\n"
     ]
    },
    {
     "data": {
      "image/png": "[encoded data removed]",
      "text/plain": [
       "<Figure size 841.68x345.6 with 2 Axes>"
      ]
     },
     "metadata": {
      "needs_background": "light"
     },
     "output_type": "display_data"
    }
   ],
   "source": [
    "#  create a figure and set its size\n",
    "plt.figure(figsize=[11.69,4.8])\n",
    "# create a subplotting matrix\n",
    "ax1=plt.subplot(1,2,1)\n",
    "# plot the pie plot first \n",
    "plt.pie(gobike.member_gender.value_counts(), labels = gobike.member_gender.unique() );\n",
    "# create the second axes\n",
    "ax2=plt.subplot(1,2,2)\n",
    "# plot using the countplot function\n",
    "sb.countplot('member_gender', data = gobike );\n",
    "ax1.set_title('Gender',fontsize=20);\n",
    "ax2.set_title('Gender',fontsize=20);"
   ]
  },
  {
   "cell_type": "markdown",
   "metadata": {},
   "source": [
    "The vast ,majority of the useres are males. while the minority is for the other gender type. Similar look at the user type will be next:"
   ]
  },
  {
   "cell_type": "code",
   "execution_count": 22,
   "metadata": {},
   "outputs": [
    {
     "name": "stderr",
     "output_type": "stream",
     "text": [
      "C:\\Users\\Motaal\\anaconda3\\lib\\site-packages\\seaborn\\_decorators.py:36: FutureWarning: Pass the following variable as a keyword arg: x. From version 0.12, the only valid positional argument will be `data`, and passing other arguments without an explicit keyword will result in an error or misinterpretation.\n",
      "  warnings.warn(\n"
     ]
    },
    {
     "data": {
      "text/plain": [
       "Text(0.5, 1.0, 'User Type')"
      ]
     },
     "execution_count": 22,
     "metadata": {},
     "output_type": "execute_result"
    },
    {
     "data": {
      "image/png": "[encoded data removed]",
      "text/plain": [
       "<Figure size 841.68x345.6 with 2 Axes>"
      ]
     },
     "metadata": {
      "needs_background": "light"
     },
     "output_type": "display_data"
    }
   ],
   "source": [
    "# add figure and set its size\n",
    "plt.figure(figsize=[11.69,4.8])\n",
    "# create subplot matrix\n",
    "ax1=plt.subplot(1,2,1)\n",
    "# plot the pie \n",
    "plt.pie(gobike.user_type.value_counts(), labels = gobike.user_type.unique() );\n",
    "# set the second axes\n",
    "ax2=plt.subplot(1,2,2)\n",
    "# plot the countplot\n",
    "sb.countplot('user_type', data = gobike);\n",
    "ax1.set_title('User Type',fontsize=20)\n",
    "ax2.set_title('User Type',fontsize=20)"
   ]
  },
  {
   "cell_type": "markdown",
   "metadata": {},
   "source": [
    "Vast majority of useres are subscribers while custoimers are much lesser (approximately 1/7th of the useres)."
   ]
  },
  {
   "cell_type": "markdown",
   "metadata": {},
   "source": [
    "### Discuss the distribution(s) of your variable(s) of interest. Were there any unusual points? Did you need to perform any transformations?\n",
    "\n",
    "> Since data are well cleaned distributions are readable and no need for transformation is found.\n",
    "\n",
    "### Of the features you investigated, were there any unusual distributions? Did you perform any operations on the data to tidy, adjust, or change the form of the data? If so, why did you do this?\n",
    "\n",
    "> Some data after modification is re-added to the dataset in form of cured features such as age, including and breakingdown the start and end time into months, weeks and day time intervals. "
   ]
  },
  {
   "cell_type": "markdown",
   "metadata": {},
   "source": [
    "## Bivariate Exploration\n"
   ]
  },
  {
   "cell_type": "markdown",
   "metadata": {},
   "source": [
    "Next every station wil be represented as a point with x_coordinate (how many rides started from it) and y_coordinate(how many times rideres ended to the same station). In this manner we can deduce how that there are some stations are of higher occupation level and others are lesser in occupation. This can help in determining how many bikes should be provided for each station to sufficiently satisfy the demand.\n",
    "\n",
    "Check if the the start stations are the same of the end stations."
   ]
  },
  {
   "cell_type": "code",
   "execution_count": 23,
   "metadata": {},
   "outputs": [
    {
     "data": {
      "text/plain": [
       "True"
      ]
     },
     "execution_count": 23,
     "metadata": {},
     "output_type": "execute_result"
    }
   ],
   "source": [
    "gobike['start_station_id'].nunique()  ==  gobike['start_station_name'].nunique()\n",
    "gobike['end_station_id'].nunique()    ==  gobike['end_station_name'].nunique()"
   ]
  },
  {
   "cell_type": "code",
   "execution_count": 24,
   "metadata": {},
   "outputs": [
    {
     "data": {
      "text/html": [
       "<div>\n",
       "<style scoped>\n",
       "    .dataframe tbody tr th:only-of-type {\n",
       "        vertical-align: middle;\n",
       "    }\n",
       "\n",
       "    .dataframe tbody tr th {\n",
       "        vertical-align: top;\n",
       "    }\n",
       "\n",
       "    .dataframe thead th {\n",
       "        text-align: right;\n",
       "    }\n",
       "</style>\n",
       "<table border=\"1\" class=\"dataframe\">\n",
       "  <thead>\n",
       "    <tr style=\"text-align: right;\">\n",
       "      <th></th>\n",
       "      <th>duration_sec</th>\n",
       "      <th>start_time</th>\n",
       "      <th>end_time</th>\n",
       "      <th>start_station_id</th>\n",
       "      <th>start_station_name</th>\n",
       "      <th>start_station_latitude</th>\n",
       "      <th>start_station_longitude</th>\n",
       "      <th>end_station_id</th>\n",
       "      <th>end_station_name</th>\n",
       "      <th>end_station_latitude</th>\n",
       "      <th>...</th>\n",
       "      <th>start_weekday_char</th>\n",
       "      <th>end_day_num</th>\n",
       "      <th>end_weekday_char</th>\n",
       "      <th>started_at_month_num</th>\n",
       "      <th>startted_month_letters</th>\n",
       "      <th>start_hr</th>\n",
       "      <th>start_time_day</th>\n",
       "      <th>end_hr</th>\n",
       "      <th>end_time_day</th>\n",
       "      <th>duration_min</th>\n",
       "    </tr>\n",
       "  </thead>\n",
       "  <tbody>\n",
       "    <tr>\n",
       "      <th>84461</th>\n",
       "      <td>5505</td>\n",
       "      <td>2019-02-17 16:12:44.729</td>\n",
       "      <td>2019-02-17 17:44:30.019</td>\n",
       "      <td>3</td>\n",
       "      <td>Powell St BART Station (Market St at 4th St)</td>\n",
       "      <td>37.786375</td>\n",
       "      <td>-122.404904</td>\n",
       "      <td>3</td>\n",
       "      <td>Powell St BART Station (Market St at 4th St)</td>\n",
       "      <td>37.786375</td>\n",
       "      <td>...</td>\n",
       "      <td>Fri</td>\n",
       "      <td>6</td>\n",
       "      <td>Fri</td>\n",
       "      <td>2</td>\n",
       "      <td>Feb</td>\n",
       "      <td>16</td>\n",
       "      <td>afternoon</td>\n",
       "      <td>17</td>\n",
       "      <td>afternoon</td>\n",
       "      <td>91.750000</td>\n",
       "    </tr>\n",
       "    <tr>\n",
       "      <th>84028</th>\n",
       "      <td>546</td>\n",
       "      <td>2019-02-17 19:09:19.499</td>\n",
       "      <td>2019-02-17 19:18:25.697</td>\n",
       "      <td>3</td>\n",
       "      <td>Powell St BART Station (Market St at 4th St)</td>\n",
       "      <td>37.786375</td>\n",
       "      <td>-122.404904</td>\n",
       "      <td>58</td>\n",
       "      <td>Market St at 10th St</td>\n",
       "      <td>37.776619</td>\n",
       "      <td>...</td>\n",
       "      <td>Fri</td>\n",
       "      <td>6</td>\n",
       "      <td>Fri</td>\n",
       "      <td>2</td>\n",
       "      <td>Feb</td>\n",
       "      <td>19</td>\n",
       "      <td>night</td>\n",
       "      <td>19</td>\n",
       "      <td>night</td>\n",
       "      <td>9.100000</td>\n",
       "    </tr>\n",
       "    <tr>\n",
       "      <th>19348</th>\n",
       "      <td>305</td>\n",
       "      <td>2019-02-26 17:10:43.191</td>\n",
       "      <td>2019-02-26 17:15:48.412</td>\n",
       "      <td>3</td>\n",
       "      <td>Powell St BART Station (Market St at 4th St)</td>\n",
       "      <td>37.786375</td>\n",
       "      <td>-122.404904</td>\n",
       "      <td>47</td>\n",
       "      <td>4th St at Harrison St</td>\n",
       "      <td>37.780955</td>\n",
       "      <td>...</td>\n",
       "      <td>Sun</td>\n",
       "      <td>1</td>\n",
       "      <td>Sun</td>\n",
       "      <td>2</td>\n",
       "      <td>Feb</td>\n",
       "      <td>17</td>\n",
       "      <td>afternoon</td>\n",
       "      <td>17</td>\n",
       "      <td>afternoon</td>\n",
       "      <td>5.083333</td>\n",
       "    </tr>\n",
       "    <tr>\n",
       "      <th>84029</th>\n",
       "      <td>500</td>\n",
       "      <td>2019-02-17 19:10:02.713</td>\n",
       "      <td>2019-02-17 19:18:23.155</td>\n",
       "      <td>3</td>\n",
       "      <td>Powell St BART Station (Market St at 4th St)</td>\n",
       "      <td>37.786375</td>\n",
       "      <td>-122.404904</td>\n",
       "      <td>58</td>\n",
       "      <td>Market St at 10th St</td>\n",
       "      <td>37.776619</td>\n",
       "      <td>...</td>\n",
       "      <td>Fri</td>\n",
       "      <td>6</td>\n",
       "      <td>Fri</td>\n",
       "      <td>2</td>\n",
       "      <td>Feb</td>\n",
       "      <td>19</td>\n",
       "      <td>night</td>\n",
       "      <td>19</td>\n",
       "      <td>night</td>\n",
       "      <td>8.333333</td>\n",
       "    </tr>\n",
       "    <tr>\n",
       "      <th>161542</th>\n",
       "      <td>468</td>\n",
       "      <td>2019-02-05 14:33:44.311</td>\n",
       "      <td>2019-02-05 14:41:32.492</td>\n",
       "      <td>3</td>\n",
       "      <td>Powell St BART Station (Market St at 4th St)</td>\n",
       "      <td>37.786375</td>\n",
       "      <td>-122.404904</td>\n",
       "      <td>75</td>\n",
       "      <td>Market St at Franklin St</td>\n",
       "      <td>37.773793</td>\n",
       "      <td>...</td>\n",
       "      <td>Sun</td>\n",
       "      <td>1</td>\n",
       "      <td>Sun</td>\n",
       "      <td>2</td>\n",
       "      <td>Feb</td>\n",
       "      <td>14</td>\n",
       "      <td>afternoon</td>\n",
       "      <td>14</td>\n",
       "      <td>afternoon</td>\n",
       "      <td>7.800000</td>\n",
       "    </tr>\n",
       "    <tr>\n",
       "      <th>...</th>\n",
       "      <td>...</td>\n",
       "      <td>...</td>\n",
       "      <td>...</td>\n",
       "      <td>...</td>\n",
       "      <td>...</td>\n",
       "      <td>...</td>\n",
       "      <td>...</td>\n",
       "      <td>...</td>\n",
       "      <td>...</td>\n",
       "      <td>...</td>\n",
       "      <td>...</td>\n",
       "      <td>...</td>\n",
       "      <td>...</td>\n",
       "      <td>...</td>\n",
       "      <td>...</td>\n",
       "      <td>...</td>\n",
       "      <td>...</td>\n",
       "      <td>...</td>\n",
       "      <td>...</td>\n",
       "      <td>...</td>\n",
       "      <td>...</td>\n",
       "    </tr>\n",
       "    <tr>\n",
       "      <th>10505</th>\n",
       "      <td>266</td>\n",
       "      <td>2019-02-27 20:21:23.312</td>\n",
       "      <td>2019-02-27 20:25:49.478</td>\n",
       "      <td>398</td>\n",
       "      <td>Leavenworth St at Broadway</td>\n",
       "      <td>37.796471</td>\n",
       "      <td>-122.416858</td>\n",
       "      <td>398</td>\n",
       "      <td>Leavenworth St at Broadway</td>\n",
       "      <td>37.796471</td>\n",
       "      <td>...</td>\n",
       "      <td>Mon</td>\n",
       "      <td>2</td>\n",
       "      <td>Mon</td>\n",
       "      <td>2</td>\n",
       "      <td>Feb</td>\n",
       "      <td>20</td>\n",
       "      <td>night</td>\n",
       "      <td>20</td>\n",
       "      <td>night</td>\n",
       "      <td>4.433333</td>\n",
       "    </tr>\n",
       "    <tr>\n",
       "      <th>2759</th>\n",
       "      <td>467</td>\n",
       "      <td>2019-02-28 17:49:39.314</td>\n",
       "      <td>2019-02-28 17:57:27.301</td>\n",
       "      <td>398</td>\n",
       "      <td>Leavenworth St at Broadway</td>\n",
       "      <td>37.796471</td>\n",
       "      <td>-122.416858</td>\n",
       "      <td>19</td>\n",
       "      <td>Post St at Kearny St</td>\n",
       "      <td>37.788975</td>\n",
       "      <td>...</td>\n",
       "      <td>Tue</td>\n",
       "      <td>3</td>\n",
       "      <td>Tue</td>\n",
       "      <td>2</td>\n",
       "      <td>Feb</td>\n",
       "      <td>17</td>\n",
       "      <td>afternoon</td>\n",
       "      <td>17</td>\n",
       "      <td>afternoon</td>\n",
       "      <td>7.783333</td>\n",
       "    </tr>\n",
       "    <tr>\n",
       "      <th>7295</th>\n",
       "      <td>690</td>\n",
       "      <td>2019-02-28 09:08:35.860</td>\n",
       "      <td>2019-02-28 09:20:06.826</td>\n",
       "      <td>398</td>\n",
       "      <td>Leavenworth St at Broadway</td>\n",
       "      <td>37.796471</td>\n",
       "      <td>-122.416858</td>\n",
       "      <td>19</td>\n",
       "      <td>Post St at Kearny St</td>\n",
       "      <td>37.788975</td>\n",
       "      <td>...</td>\n",
       "      <td>Tue</td>\n",
       "      <td>3</td>\n",
       "      <td>Tue</td>\n",
       "      <td>2</td>\n",
       "      <td>Feb</td>\n",
       "      <td>9</td>\n",
       "      <td>morning</td>\n",
       "      <td>9</td>\n",
       "      <td>morning</td>\n",
       "      <td>11.500000</td>\n",
       "    </tr>\n",
       "    <tr>\n",
       "      <th>1033</th>\n",
       "      <td>2402</td>\n",
       "      <td>2019-02-28 19:18:30.992</td>\n",
       "      <td>2019-02-28 19:58:33.562</td>\n",
       "      <td>398</td>\n",
       "      <td>Leavenworth St at Broadway</td>\n",
       "      <td>37.796471</td>\n",
       "      <td>-122.416858</td>\n",
       "      <td>51</td>\n",
       "      <td>Parker Ave at McAllister St</td>\n",
       "      <td>37.776101</td>\n",
       "      <td>...</td>\n",
       "      <td>Tue</td>\n",
       "      <td>3</td>\n",
       "      <td>Tue</td>\n",
       "      <td>2</td>\n",
       "      <td>Feb</td>\n",
       "      <td>19</td>\n",
       "      <td>night</td>\n",
       "      <td>19</td>\n",
       "      <td>night</td>\n",
       "      <td>40.033333</td>\n",
       "    </tr>\n",
       "    <tr>\n",
       "      <th>13122</th>\n",
       "      <td>105</td>\n",
       "      <td>2019-02-27 16:56:32.686</td>\n",
       "      <td>2019-02-27 16:58:18.671</td>\n",
       "      <td>398</td>\n",
       "      <td>Leavenworth St at Broadway</td>\n",
       "      <td>37.796471</td>\n",
       "      <td>-122.416858</td>\n",
       "      <td>398</td>\n",
       "      <td>Leavenworth St at Broadway</td>\n",
       "      <td>37.796471</td>\n",
       "      <td>...</td>\n",
       "      <td>Mon</td>\n",
       "      <td>2</td>\n",
       "      <td>Mon</td>\n",
       "      <td>2</td>\n",
       "      <td>Feb</td>\n",
       "      <td>16</td>\n",
       "      <td>afternoon</td>\n",
       "      <td>16</td>\n",
       "      <td>afternoon</td>\n",
       "      <td>1.750000</td>\n",
       "    </tr>\n",
       "  </tbody>\n",
       "</table>\n",
       "<p>169893 rows × 28 columns</p>\n",
       "</div>"
      ],
      "text/plain": [
       "        duration_sec              start_time                end_time  \\\n",
       "84461           5505 2019-02-17 16:12:44.729 2019-02-17 17:44:30.019   \n",
       "84028            546 2019-02-17 19:09:19.499 2019-02-17 19:18:25.697   \n",
       "19348            305 2019-02-26 17:10:43.191 2019-02-26 17:15:48.412   \n",
       "84029            500 2019-02-17 19:10:02.713 2019-02-17 19:18:23.155   \n",
       "161542           468 2019-02-05 14:33:44.311 2019-02-05 14:41:32.492   \n",
       "...              ...                     ...                     ...   \n",
       "10505            266 2019-02-27 20:21:23.312 2019-02-27 20:25:49.478   \n",
       "2759             467 2019-02-28 17:49:39.314 2019-02-28 17:57:27.301   \n",
       "7295             690 2019-02-28 09:08:35.860 2019-02-28 09:20:06.826   \n",
       "1033            2402 2019-02-28 19:18:30.992 2019-02-28 19:58:33.562   \n",
       "13122            105 2019-02-27 16:56:32.686 2019-02-27 16:58:18.671   \n",
       "\n",
       "        start_station_id                            start_station_name  \\\n",
       "84461                  3  Powell St BART Station (Market St at 4th St)   \n",
       "84028                  3  Powell St BART Station (Market St at 4th St)   \n",
       "19348                  3  Powell St BART Station (Market St at 4th St)   \n",
       "84029                  3  Powell St BART Station (Market St at 4th St)   \n",
       "161542                 3  Powell St BART Station (Market St at 4th St)   \n",
       "...                  ...                                           ...   \n",
       "10505                398                    Leavenworth St at Broadway   \n",
       "2759                 398                    Leavenworth St at Broadway   \n",
       "7295                 398                    Leavenworth St at Broadway   \n",
       "1033                 398                    Leavenworth St at Broadway   \n",
       "13122                398                    Leavenworth St at Broadway   \n",
       "\n",
       "        start_station_latitude  start_station_longitude  end_station_id  \\\n",
       "84461                37.786375              -122.404904               3   \n",
       "84028                37.786375              -122.404904              58   \n",
       "19348                37.786375              -122.404904              47   \n",
       "84029                37.786375              -122.404904              58   \n",
       "161542               37.786375              -122.404904              75   \n",
       "...                        ...                      ...             ...   \n",
       "10505                37.796471              -122.416858             398   \n",
       "2759                 37.796471              -122.416858              19   \n",
       "7295                 37.796471              -122.416858              19   \n",
       "1033                 37.796471              -122.416858              51   \n",
       "13122                37.796471              -122.416858             398   \n",
       "\n",
       "                                    end_station_name  end_station_latitude  \\\n",
       "84461   Powell St BART Station (Market St at 4th St)             37.786375   \n",
       "84028                           Market St at 10th St             37.776619   \n",
       "19348                          4th St at Harrison St             37.780955   \n",
       "84029                           Market St at 10th St             37.776619   \n",
       "161542                      Market St at Franklin St             37.773793   \n",
       "...                                              ...                   ...   \n",
       "10505                     Leavenworth St at Broadway             37.796471   \n",
       "2759                            Post St at Kearny St             37.788975   \n",
       "7295                            Post St at Kearny St             37.788975   \n",
       "1033                     Parker Ave at McAllister St             37.776101   \n",
       "13122                     Leavenworth St at Broadway             37.796471   \n",
       "\n",
       "        ...  start_weekday_char  end_day_num end_weekday_char  \\\n",
       "84461   ...                 Fri            6              Fri   \n",
       "84028   ...                 Fri            6              Fri   \n",
       "19348   ...                 Sun            1              Sun   \n",
       "84029   ...                 Fri            6              Fri   \n",
       "161542  ...                 Sun            1              Sun   \n",
       "...     ...                 ...          ...              ...   \n",
       "10505   ...                 Mon            2              Mon   \n",
       "2759    ...                 Tue            3              Tue   \n",
       "7295    ...                 Tue            3              Tue   \n",
       "1033    ...                 Tue            3              Tue   \n",
       "13122   ...                 Mon            2              Mon   \n",
       "\n",
       "        started_at_month_num startted_month_letters start_hr  start_time_day  \\\n",
       "84461                      2                    Feb       16       afternoon   \n",
       "84028                      2                    Feb       19           night   \n",
       "19348                      2                    Feb       17       afternoon   \n",
       "84029                      2                    Feb       19           night   \n",
       "161542                     2                    Feb       14       afternoon   \n",
       "...                      ...                    ...      ...             ...   \n",
       "10505                      2                    Feb       20           night   \n",
       "2759                       2                    Feb       17       afternoon   \n",
       "7295                       2                    Feb        9         morning   \n",
       "1033                       2                    Feb       19           night   \n",
       "13122                      2                    Feb       16       afternoon   \n",
       "\n",
       "        end_hr end_time_day  duration_min  \n",
       "84461       17    afternoon     91.750000  \n",
       "84028       19        night      9.100000  \n",
       "19348       17    afternoon      5.083333  \n",
       "84029       19        night      8.333333  \n",
       "161542      14    afternoon      7.800000  \n",
       "...        ...          ...           ...  \n",
       "10505       20        night      4.433333  \n",
       "2759        17    afternoon      7.783333  \n",
       "7295         9      morning     11.500000  \n",
       "1033        19        night     40.033333  \n",
       "13122       16    afternoon      1.750000  \n",
       "\n",
       "[169893 rows x 28 columns]"
      ]
     },
     "execution_count": 24,
     "metadata": {},
     "output_type": "execute_result"
    }
   ],
   "source": [
    "# sort the station id column\n",
    "gobike.sort_values(by=['start_station_id'],axis=0, ascending=[True])"
   ]
  },
  {
   "cell_type": "code",
   "execution_count": 25,
   "metadata": {},
   "outputs": [
    {
     "name": "stdout",
     "output_type": "stream",
     "text": [
      "start_station_name\n",
      "Market St at 10th St                                         3614\n",
      "San Francisco Caltrain Station 2  (Townsend St at 4th St)    3296\n",
      "Berry St at 4th St                                           2860\n",
      "Montgomery St BART Station (Market St at 2nd St)             2644\n",
      "Powell St BART Station (Market St at 4th St)                 2551\n",
      "                                                             ... \n",
      "Willow St at Vine St                                            8\n",
      "Parker Ave at McAllister St                                     7\n",
      "21st Ave at International Blvd                                  4\n",
      "Palm St at Willow St                                            3\n",
      "16th St Depot                                                   2\n",
      "Length: 329, dtype: int64\n",
      "end_station_name\n",
      "San Francisco Caltrain Station 2  (Townsend St at 4th St)    4541\n",
      "Market St at 10th St                                         3660\n",
      "Montgomery St BART Station (Market St at 2nd St)             3382\n",
      "San Francisco Ferry Building (Harry Bridges Plaza)           2970\n",
      "Powell St BART Station (Market St at 4th St)                 2779\n",
      "                                                             ... \n",
      "Foothill Blvd at Harrington Ave                                 8\n",
      "Palm St at Willow St                                            7\n",
      "Willow St at Vine St                                            5\n",
      "16th St Depot                                                   4\n",
      "21st Ave at International Blvd                                  4\n",
      "Length: 329, dtype: int64\n"
     ]
    }
   ],
   "source": [
    "# creat a list of counts of how many every station is fequently visited for departure\n",
    "x_coordinates = gobike.value_counts('start_station_name')\n",
    "#  creat a list of counts of how many every station is fequently visited for landing\n",
    "y_coordinates = gobike.value_counts('end_station_name')\n",
    "print(x_coordinates)\n",
    "print(y_coordinates)"
   ]
  },
  {
   "cell_type": "code",
   "execution_count": 26,
   "metadata": {},
   "outputs": [],
   "source": [
    "x_coordinates =x_coordinates.sort_index()"
   ]
  },
  {
   "cell_type": "code",
   "execution_count": 27,
   "metadata": {},
   "outputs": [],
   "source": [
    "y_coordinates=y_coordinates.sort_index()"
   ]
  },
  {
   "cell_type": "code",
   "execution_count": 28,
   "metadata": {},
   "outputs": [],
   "source": [
    "li1=gobike['start_station_name'].unique().tolist()\n",
    "li1.sort()"
   ]
  },
  {
   "cell_type": "code",
   "execution_count": 29,
   "metadata": {},
   "outputs": [],
   "source": [
    "li2=gobike['end_station_name'].unique().tolist()\n",
    "li2.sort()\n"
   ]
  },
  {
   "cell_type": "code",
   "execution_count": 30,
   "metadata": {},
   "outputs": [
    {
     "name": "stdout",
     "output_type": "stream",
     "text": [
      "329\n"
     ]
    }
   ],
   "source": [
    "# check if all elements are the same in bothe 'start_station_name' and 'end_station_name'\n",
    "sum=0\n",
    "for name in li1:\n",
    "    if name in li2:\n",
    "        sum+=1\n",
    "print(sum)"
   ]
  },
  {
   "cell_type": "code",
   "execution_count": 31,
   "metadata": {},
   "outputs": [
    {
     "data": {
      "text/plain": [
       "Text(0, 0.5, 'Distination')"
      ]
     },
     "execution_count": 31,
     "metadata": {},
     "output_type": "execute_result"
    },
    {
     "data": {
      "image/png": "[encoded data removed]",
      "text/plain": [
       "<Figure size 841.68x345.6 with 1 Axes>"
      ]
     },
     "metadata": {
      "needs_background": "light"
     },
     "output_type": "display_data"
    }
   ],
   "source": [
    "# create figure with approperiate size\n",
    "plt.figure(figsize=[11.69,4.8])\n",
    "# creat plot on the figure\n",
    "plt.scatter(x_coordinates,y_coordinates)\n",
    "# add grid\n",
    "plt.grid()\n",
    "# add labels\n",
    "plt.xlabel('Origin')\n",
    "plt.ylabel('Distination')"
   ]
  },
  {
   "cell_type": "code",
   "execution_count": 32,
   "metadata": {},
   "outputs": [],
   "source": [
    "stations = pd.concat([x_coordinates,y_coordinates],axis=1)"
   ]
  },
  {
   "cell_type": "code",
   "execution_count": 33,
   "metadata": {},
   "outputs": [
    {
     "data": {
      "text/html": [
       "<div>\n",
       "<style scoped>\n",
       "    .dataframe tbody tr th:only-of-type {\n",
       "        vertical-align: middle;\n",
       "    }\n",
       "\n",
       "    .dataframe tbody tr th {\n",
       "        vertical-align: top;\n",
       "    }\n",
       "\n",
       "    .dataframe thead th {\n",
       "        text-align: right;\n",
       "    }\n",
       "</style>\n",
       "<table border=\"1\" class=\"dataframe\">\n",
       "  <thead>\n",
       "    <tr style=\"text-align: right;\">\n",
       "      <th></th>\n",
       "      <th>0</th>\n",
       "      <th>1</th>\n",
       "    </tr>\n",
       "  </thead>\n",
       "  <tbody>\n",
       "    <tr>\n",
       "      <th>10th Ave at E 15th St</th>\n",
       "      <td>55</td>\n",
       "      <td>35</td>\n",
       "    </tr>\n",
       "    <tr>\n",
       "      <th>10th St at Fallon St</th>\n",
       "      <td>333</td>\n",
       "      <td>350</td>\n",
       "    </tr>\n",
       "    <tr>\n",
       "      <th>10th St at University Ave</th>\n",
       "      <td>180</td>\n",
       "      <td>267</td>\n",
       "    </tr>\n",
       "    <tr>\n",
       "      <th>11th St at Bryant St</th>\n",
       "      <td>777</td>\n",
       "      <td>935</td>\n",
       "    </tr>\n",
       "    <tr>\n",
       "      <th>11th St at Natoma St</th>\n",
       "      <td>775</td>\n",
       "      <td>824</td>\n",
       "    </tr>\n",
       "  </tbody>\n",
       "</table>\n",
       "</div>"
      ],
      "text/plain": [
       "                             0    1\n",
       "10th Ave at E 15th St       55   35\n",
       "10th St at Fallon St       333  350\n",
       "10th St at University Ave  180  267\n",
       "11th St at Bryant St       777  935\n",
       "11th St at Natoma St       775  824"
      ]
     },
     "execution_count": 33,
     "metadata": {},
     "output_type": "execute_result"
    }
   ],
   "source": [
    "stations.head()"
   ]
  },
  {
   "cell_type": "code",
   "execution_count": 34,
   "metadata": {},
   "outputs": [],
   "source": [
    "stations.rename({0:'x_coordinates', 1:'y_coordinates'},axis = 1, inplace=True)"
   ]
  },
  {
   "cell_type": "code",
   "execution_count": 35,
   "metadata": {},
   "outputs": [
    {
     "data": {
      "text/html": [
       "<div>\n",
       "<style scoped>\n",
       "    .dataframe tbody tr th:only-of-type {\n",
       "        vertical-align: middle;\n",
       "    }\n",
       "\n",
       "    .dataframe tbody tr th {\n",
       "        vertical-align: top;\n",
       "    }\n",
       "\n",
       "    .dataframe thead th {\n",
       "        text-align: right;\n",
       "    }\n",
       "</style>\n",
       "<table border=\"1\" class=\"dataframe\">\n",
       "  <thead>\n",
       "    <tr style=\"text-align: right;\">\n",
       "      <th></th>\n",
       "      <th>x_coordinates</th>\n",
       "      <th>y_coordinates</th>\n",
       "    </tr>\n",
       "  </thead>\n",
       "  <tbody>\n",
       "    <tr>\n",
       "      <th>10th Ave at E 15th St</th>\n",
       "      <td>55</td>\n",
       "      <td>35</td>\n",
       "    </tr>\n",
       "    <tr>\n",
       "      <th>10th St at Fallon St</th>\n",
       "      <td>333</td>\n",
       "      <td>350</td>\n",
       "    </tr>\n",
       "    <tr>\n",
       "      <th>10th St at University Ave</th>\n",
       "      <td>180</td>\n",
       "      <td>267</td>\n",
       "    </tr>\n",
       "    <tr>\n",
       "      <th>11th St at Bryant St</th>\n",
       "      <td>777</td>\n",
       "      <td>935</td>\n",
       "    </tr>\n",
       "    <tr>\n",
       "      <th>11th St at Natoma St</th>\n",
       "      <td>775</td>\n",
       "      <td>824</td>\n",
       "    </tr>\n",
       "  </tbody>\n",
       "</table>\n",
       "</div>"
      ],
      "text/plain": [
       "                           x_coordinates  y_coordinates\n",
       "10th Ave at E 15th St                 55             35\n",
       "10th St at Fallon St                 333            350\n",
       "10th St at University Ave            180            267\n",
       "11th St at Bryant St                 777            935\n",
       "11th St at Natoma St                 775            824"
      ]
     },
     "execution_count": 35,
     "metadata": {},
     "output_type": "execute_result"
    }
   ],
   "source": [
    "stations.head()"
   ]
  },
  {
   "cell_type": "code",
   "execution_count": 36,
   "metadata": {},
   "outputs": [
    {
     "data": {
      "text/plain": [
       "Text(0.5, 1.0, 'Heat map and correlation between origin stations and Distination ones')"
      ]
     },
     "execution_count": 36,
     "metadata": {},
     "output_type": "execute_result"
    },
    {
     "data": {
      "image/png": "[encoded data removed]",
      "text/plain": [
       "<Figure size 841.68x345.6 with 2 Axes>"
      ]
     },
     "metadata": {
      "needs_background": "light"
     },
     "output_type": "display_data"
    }
   ],
   "source": [
    "# create figure with size\n",
    "plt.figure(figsize=[11.69,4.8])\n",
    "# create a plot\n",
    "sb.heatmap(stations.corr(),cmap='vlag_r', annot = True);\n",
    "# set a title\n",
    "plt.title('Heat map and correlation between origin stations and Distination ones')"
   ]
  },
  {
   "cell_type": "markdown",
   "metadata": {},
   "source": [
    "The heat map above gives strong correlation between stations as origins and distainations. As an emphasize on the reading of the previous point plot figure."
   ]
  },
  {
   "cell_type": "code",
   "execution_count": 37,
   "metadata": {},
   "outputs": [
    {
     "data": {
      "image/png": "[encoded data removed]",
      "text/plain": [
       "<Figure size 841.68x345.6 with 2 Axes>"
      ]
     },
     "metadata": {
      "needs_background": "light"
     },
     "output_type": "display_data"
    }
   ],
   "source": [
    "# create figure with size\n",
    "plt.figure(figsize = [11.69, 4.8])\n",
    "# plot\n",
    "sb.heatmap(gobike[['duration_sec','age']].corr(), fmt = '.2f', annot=True, cmap = 'vlag_r')\n",
    "# set a title\n",
    "plt.title('Correlation between age and duration of bike riding');"
   ]
  },
  {
   "cell_type": "markdown",
   "metadata": {},
   "source": [
    "There seems no correlation between age and suration of bike riding."
   ]
  },
  {
   "cell_type": "code",
   "execution_count": 38,
   "metadata": {},
   "outputs": [
    {
     "data": {
      "text/plain": [
       "<AxesSubplot:xlabel='age', ylabel='member_gender'>"
      ]
     },
     "execution_count": 38,
     "metadata": {},
     "output_type": "execute_result"
    },
    {
     "data": {
      "image/png": "[encoded data removed]",
      "text/plain": [
       "<Figure size 841.68x345.6 with 1 Axes>"
      ]
     },
     "metadata": {
      "needs_background": "light"
     },
     "output_type": "display_data"
    }
   ],
   "source": [
    "# set figure size\n",
    "plt.figure(figsize = [11.69, 4.8]) \n",
    "# creat 2-d box plot\n",
    "sb.boxplot(data = gobike, x = 'age', y = 'member_gender')"
   ]
  },
  {
   "cell_type": "markdown",
   "metadata": {},
   "source": [
    "From the figure above it seems that most rideres are of the same age stage in average (approxiamtely 35 five years old for all genders). this can make the decision maker more specified in marketing."
   ]
  },
  {
   "cell_type": "code",
   "execution_count": 39,
   "metadata": {},
   "outputs": [
    {
     "name": "stderr",
     "output_type": "stream",
     "text": [
      "C:\\Users\\Motaal\\anaconda3\\lib\\site-packages\\seaborn\\_decorators.py:36: FutureWarning: Pass the following variable as a keyword arg: x. From version 0.12, the only valid positional argument will be `data`, and passing other arguments without an explicit keyword will result in an error or misinterpretation.\n",
      "  warnings.warn(\n"
     ]
    },
    {
     "data": {
      "text/plain": [
       "Text(0.5, 1.0, 'Most frequent day Rides taking place')"
      ]
     },
     "execution_count": 39,
     "metadata": {},
     "output_type": "execute_result"
    },
    {
     "data": {
      "image/png": "[encoded data removed]",
      "text/plain": [
       "<Figure size 841.68x345.6 with 1 Axes>"
      ]
     },
     "metadata": {
      "needs_background": "light"
     },
     "output_type": "display_data"
    }
   ],
   "source": [
    "# set figure size\n",
    "plt.figure(figsize=[11.69,4.8])\n",
    "# creat a subplot\n",
    "plt.subplot(1,1,1)\n",
    "# sort columns\n",
    "indx2=gobike['start_weekday_char'].value_counts().index\n",
    "# create the plots\n",
    "sb.countplot('start_weekday_char', data = gobike, hue='user_type',order=indx2 );\n",
    "# add Grids\n",
    "plt.grid()\n",
    "plt.title('Most frequent day Rides taking place', fontsize=15)"
   ]
  },
  {
   "cell_type": "code",
   "execution_count": 40,
   "metadata": {},
   "outputs": [
    {
     "name": "stderr",
     "output_type": "stream",
     "text": [
      "C:\\Users\\Motaal\\anaconda3\\lib\\site-packages\\seaborn\\_decorators.py:36: FutureWarning: Pass the following variable as a keyword arg: x. From version 0.12, the only valid positional argument will be `data`, and passing other arguments without an explicit keyword will result in an error or misinterpretation.\n",
      "  warnings.warn(\n"
     ]
    },
    {
     "data": {
      "text/plain": [
       "Text(0.5, 1.0, 'Most frequent day Rides taking place')"
      ]
     },
     "execution_count": 40,
     "metadata": {},
     "output_type": "execute_result"
    },
    {
     "data": {
      "image/png": "[encoded data removed]",
      "text/plain": [
       "<Figure size 841.68x345.6 with 1 Axes>"
      ]
     },
     "metadata": {
      "needs_background": "light"
     },
     "output_type": "display_data"
    }
   ],
   "source": [
    "# set figure size\n",
    "plt.figure(figsize=[11.69,4.8])\n",
    "# creat a subplot\n",
    "plt.subplot(1,1,1)\n",
    "# sort columns\n",
    "indx2=gobike['end_weekday_char'].value_counts().index\n",
    "# create the plots\n",
    "sb.countplot('end_weekday_char', data = gobike, hue='user_type',order=indx2 );\n",
    "# add Grids\n",
    "plt.grid()\n",
    "plt.title('Most frequent day Rides taking place', fontsize=15)"
   ]
  },
  {
   "cell_type": "markdown",
   "metadata": {},
   "source": [
    "As 2-d variables as shown in the above figures it's obvious that subscribers are taking the largest share of rides than the customer users. Also these figures shows that Tuseday (mid of the week) is the day of maximum demand on bikes riding. Whereas Thurusday and Friday are the least ones. An eye should be kept on the fact that all the observations and records lie into an only one month as explained in previous section which is February. Then by linking data to gether, most of working days there are no obvios evidence that working days are separtae from weekends statistically. This may affect the assumption that useres are using the bikes as a means of transportation since no clear difference between working days in the week and weekends.To judge this more fairly further data about other months through the year should be collected and compared. "
   ]
  },
  {
   "cell_type": "code",
   "execution_count": 41,
   "metadata": {},
   "outputs": [
    {
     "data": {
      "image/png": "[encoded data removed]",
      "text/plain": [
       "<Figure size 841.68x324 with 2 Axes>"
      ]
     },
     "metadata": {
      "needs_background": "light"
     },
     "output_type": "display_data"
    }
   ],
   "source": [
    "# add bin sizing\n",
    "bins = range(0,24,1)\n",
    "# creat subplot matrix\n",
    "fig,ax =plt.subplots(nrows=1,ncols=2)\n",
    "# assign axes to variable labels\n",
    "ax1=ax[0]\n",
    "ax2=ax[1]\n",
    "# plot histograms\n",
    "ax1.hist(data = gobike, x = 'start_hr', bins = bins);\n",
    "ax2.hist(data = gobike, x = 'end_hr',   bins = bins);\n",
    "# add grid to the plot \n",
    "ax1.grid();\n",
    "ax2.grid();\n",
    "# set titels\n",
    "ax1.set_title('Start Hour Distribution')\n",
    "ax2.set_title('End Hour Distribution')\n",
    "# and finally set the Figure size\n",
    "fig.set_size_inches( 11.69, 4.5)"
   ]
  },
  {
   "cell_type": "markdown",
   "metadata": {},
   "source": [
    "In the later two figures the histograms give a hint about the existence of two peaks in the day for the starting and endings of the rides. This fact in reflected from the bimodal graphs above. in the starting hours, the two peaks are approximately at 8.0 A.M and 5:30 P.M. The numbers are similar when taking about the ending hours also. This may be read as side by side to the fact that the majority of durations are short ones to draw a picture of the whole situation. this can be read as if the users are using bikes as atransportation means to and from their distinations at the begining of the day and once more at the end of it."
   ]
  },
  {
   "cell_type": "markdown",
   "metadata": {},
   "source": [
    "### Talk about some of the relationships you observed in this part of the investigation. How did the feature(s) of interest vary with other features in the dataset?\n",
    "\n",
    "> The most interesing deduced note is that rideres are using bikes as a means of transportation for short period goes for most of the useres. Also, the stations has approximately the same number of rides dparting the station and recived bikes. this means side by side to the short duration of bike rides that they bike are used as means of transportation between nearby stations this is emphasized by the bimodal histogram of the starting hour of the rides and the ending hour of the rides. Thus, through three different variables (duration,starting and ending hour,starting and ending stations) this assumption has proven to be stong enough.\n",
    "\n",
    "### Did you observe any interesting relationships between the other features (not the main feature(s) of interest)?\n",
    "\n",
    "> From analysis it has been shown that stations are used aproximately mutally for short distances inbetween. This can be deduced from the sort rides durations and the frquency over each station.Also the bimodal distributions of the start hour and end hour of each ride is telling a similar story that emphasizes that the bikes are used as means of transportation."
   ]
  },
  {
   "cell_type": "markdown",
   "metadata": {},
   "source": [
    "## Multivariate Exploration\n"
   ]
  },
  {
   "cell_type": "code",
   "execution_count": 42,
   "metadata": {},
   "outputs": [
    {
     "data": {
      "text/plain": [
       "Text(0.5, 1.0, 'Other')"
      ]
     },
     "execution_count": 42,
     "metadata": {},
     "output_type": "execute_result"
    },
    {
     "data": {
      "text/plain": [
       "<Figure size 841.68x595.44 with 0 Axes>"
      ]
     },
     "metadata": {},
     "output_type": "display_data"
    },
    {
     "data": {
      "image/png": "[encoded data removed]",
      "text/plain": [
       "<Figure size 737.125x216 with 3 Axes>"
      ]
     },
     "metadata": {
      "needs_background": "light"
     },
     "output_type": "display_data"
    }
   ],
   "source": [
    "# set figure size\n",
    "plt.figure(figsize=[ 11.69, 8.27]);\n",
    "# FacetGrid the data\n",
    "g=sb.FacetGrid(gobike, col='member_gender',sharey = False,hue='user_type');\n",
    "# add vriables and disable the y -axis sharing and bins sizing\n",
    "g.map_dataframe(sb.histplot,'start_hr',bins=24);\n",
    "# add legend\n",
    "g.add_legend();\n",
    "# add titles\n",
    "g.axes.flat[0].set_title('Male')\n",
    "g.axes.flat[1].set_title('Female')\n",
    "g.axes.flat[2].set_title('Other')\n"
   ]
  },
  {
   "cell_type": "markdown",
   "metadata": {},
   "source": [
    "The above figures give describtion of satrting hour total number of useres for each gender type and user types are included on the same graph as well. From these figures one can notice that the number of subscriber male gender is much larger at the starting hour of the rides espcially when comparing at the points of rush hours(the two peaks in each graph). For example the number of male subscribers taking their bikes for a ride around 7-10 am is approximately 3 times the female subscribers. The same trend is true for the second rush hour (around 5 P.M). Whereas for the \"Other\" gender the numbers are much lesser. approximately one twintyfifith the male subscriber totals.\n"
   ]
  },
  {
   "cell_type": "code",
   "execution_count": 43,
   "metadata": {},
   "outputs": [
    {
     "data": {
      "text/plain": [
       "Text(0.5, 1.0, 'Other')"
      ]
     },
     "execution_count": 43,
     "metadata": {},
     "output_type": "execute_result"
    },
    {
     "data": {
      "text/plain": [
       "<Figure size 841.68x595.44 with 0 Axes>"
      ]
     },
     "metadata": {},
     "output_type": "display_data"
    },
    {
     "data": {
      "image/png": "[encoded data removed]",
      "text/plain": [
       "<Figure size 737.125x216 with 3 Axes>"
      ]
     },
     "metadata": {
      "needs_background": "light"
     },
     "output_type": "display_data"
    }
   ],
   "source": [
    "# set figure size\n",
    "plt.figure(figsize=[ 11.69, 8.27]);\n",
    "# FacetGrid the data\n",
    "g=sb.FacetGrid(gobike, col='member_gender',sharey = False,hue='user_type');\n",
    "# add vriables and disable the y -axis sharing and bins sizing\n",
    "g.map_dataframe(sb.histplot,'end_hr',bins=24);\n",
    "# add legend\n",
    "g.add_legend();\n",
    "# add titles\n",
    "g.axes.flat[0].set_title('Male')\n",
    "g.axes.flat[1].set_title('Female')\n",
    "g.axes.flat[2].set_title('Other')\n"
   ]
  },
  {
   "cell_type": "markdown",
   "metadata": {},
   "source": [
    "Similar trend to the total numbers of the starting hour histogram. Both of them share the profile of the bimodal and the two rush hours at the end of the ride. This fact is related to and can be correlated to the short-duration rides in general as noticed before."
   ]
  },
  {
   "cell_type": "code",
   "execution_count": 44,
   "metadata": {},
   "outputs": [
    {
     "data": {
      "text/plain": [
       "Text(0.5, 1.0, 'Other')"
      ]
     },
     "execution_count": 44,
     "metadata": {},
     "output_type": "execute_result"
    },
    {
     "data": {
      "image/png": "[encoded data removed]",
      "text/plain": [
       "<Figure size 737.125x216 with 3 Axes>"
      ]
     },
     "metadata": {
      "needs_background": "light"
     },
     "output_type": "display_data"
    }
   ],
   "source": [
    "# so as to order the columns of the plot \n",
    "indx=gobike['end_time_day'].value_counts().index\n",
    "\n",
    "\n",
    "# so as to enhance the y axis look, i.e to write the values in K's (1000)\n",
    "def countplot(x, hue, **kwargs):\n",
    "    sb.countplot(x='end_time_day', hue='user_type', palette='Set1', **kwargs)\n",
    "\n",
    "\n",
    "g   = sb.FacetGrid(data=gobike,col='member_gender', sharey = False)\n",
    "g.map_dataframe(countplot,'end_time_day','user_type',order=indx)\n",
    "\n",
    "g.add_legend()\n",
    "\n",
    "from matplotlib.ticker import FuncFormatter\n",
    "for i, ax in enumerate(g.axes.flat):\n",
    "    f = lambda x, pos: f'{x/10**3:,.0f}K'\n",
    "    if i>1:\n",
    "        continue\n",
    "    else:\n",
    "        ax.yaxis.set_major_formatter(FuncFormatter(f)) \n",
    "\n",
    "# add titles\n",
    "g.axes.flat[0].set_title('Male')\n",
    "g.axes.flat[1].set_title('Female')\n",
    "g.axes.flat[2].set_title('Other')\n",
    "# add titles\n",
    "g.axes.flat[0].set_title('Male')\n",
    "g.axes.flat[1].set_title('Female')\n",
    "g.axes.flat[2].set_title('Other')\n"
   ]
  },
  {
   "cell_type": "markdown",
   "metadata": {},
   "source": [
    "When specifically talking about male subscribers, the total riders number is much higher (more than 40 thousand users) than the female users (14 thousand) for the early hours of the day (morning period). A slight increase in customer type users is nonticed when talking female gender rather than male useres but again this goes true only for customer type users. Whereas in general other type gender has much lower portions."
   ]
  },
  {
   "cell_type": "code",
   "execution_count": 45,
   "metadata": {},
   "outputs": [
    {
     "data": {
      "text/plain": [
       "Text(0.5, 1.0, 'Other')"
      ]
     },
     "execution_count": 45,
     "metadata": {},
     "output_type": "execute_result"
    },
    {
     "data": {
      "image/png": "[encoded data removed]",
      "text/plain": [
       "<Figure size 737.125x216 with 3 Axes>"
      ]
     },
     "metadata": {
      "needs_background": "light"
     },
     "output_type": "display_data"
    }
   ],
   "source": [
    "# so as to order the columns of the plot \n",
    "indx=gobike['end_time_day'].value_counts().index\n",
    "\n",
    "\n",
    "\n",
    "\n",
    "\n",
    "# so as to enhance the y axis look, i.e to write the values in K's (1000)\n",
    "def countplot(x, hue, **kwargs):\n",
    "    sb.countplot(x='end_time_day', hue='user_type', palette='Set1', **kwargs)\n",
    "\n",
    "\n",
    "g   = sb.FacetGrid(data=gobike,col='member_gender', sharey = False)\n",
    "g.map_dataframe(countplot,'end_time_day','user_type',order=indx)\n",
    "\n",
    "g.add_legend()\n",
    "\n",
    "from matplotlib.ticker import FuncFormatter\n",
    "for i, ax in enumerate(g.axes.flat):\n",
    "    f = lambda x, pos: f'{x/10**3:,.0f}K'\n",
    "    if i>1:\n",
    "        continue\n",
    "    else:\n",
    "        ax.yaxis.set_major_formatter(FuncFormatter(f)) \n",
    "\n",
    "# add titles\n",
    "g.axes.flat[0].set_title('Male')\n",
    "g.axes.flat[1].set_title('Female')\n",
    "g.axes.flat[2].set_title('Other')"
   ]
  },
  {
   "cell_type": "markdown",
   "metadata": {},
   "source": [
    "The same trend is repeted and noticed again when talking about the end period of the rides of the day. Again the similarty returns to the fact of the short durations intotal period in miutes of the rides."
   ]
  },
  {
   "cell_type": "code",
   "execution_count": 46,
   "metadata": {},
   "outputs": [
    {
     "data": {
      "text/plain": [
       "(0.0, 80.0)"
      ]
     },
     "execution_count": 46,
     "metadata": {},
     "output_type": "execute_result"
    },
    {
     "data": {
      "text/plain": [
       "<Figure size 841.68x576 with 0 Axes>"
      ]
     },
     "metadata": {},
     "output_type": "display_data"
    },
    {
     "data": {
      "image/png": "[encoded data removed]",
      "text/plain": [
       "<Figure size 737.125x648 with 9 Axes>"
      ]
     },
     "metadata": {
      "needs_background": "light"
     },
     "output_type": "display_data"
    }
   ],
   "source": [
    "# set the figure size\n",
    "plt.figure(figsize=[11.69,8]);\n",
    "\n",
    "# creat a Facet Grid from seaborn lib\n",
    "g=sb.FacetGrid(gobike,row='start_time_day',  col='member_gender',sharey = False,hue='user_type');\n",
    "\n",
    "# specify variables and bins\n",
    "g.map_dataframe(sb.histplot,'duration_min', bins =100);\n",
    "\n",
    "# add legend to the graph\n",
    "g.add_legend();\n",
    "\n",
    "\n",
    "\n",
    "\n",
    "# write a function to prperly locate the titles\n",
    "def sr(i,j):\n",
    "    if j == 0:\n",
    "        gender='Male'\n",
    "    if j == 1:\n",
    "        gender='Female'\n",
    "    if j ==2:\n",
    "        gender ='Other'\n",
    "    if i == 0:\n",
    "        time='Night'\n",
    "    if i ==1:\n",
    "        time='Afternoon'\n",
    "    if i == 2:\n",
    "        time ='Morning'\n",
    "    ititle='{}-{}'.format(gender,time)\n",
    "    return ititle\n",
    "    \n",
    "# loop to write titles for the matrix\n",
    "title=[]\n",
    "for i in range(0,3):\n",
    "    for j in range(0,3):\n",
    "        title.append(sr(i,j))\n",
    " \n",
    "    \n",
    "    \n",
    "    \n",
    "# loop to set titles and grids  \n",
    "for i, ax in enumerate(g.axes.flat):\n",
    "    ax.grid()\n",
    "    ax.set_title(title[i])\n",
    "\n",
    "plt.xlim(0,80)"
   ]
  },
  {
   "cell_type": "markdown",
   "metadata": {},
   "source": [
    "It's noticed again that for the smae short durations in minutes the number of male subscribers taht are taking their rides for similar short durations, is approximately four times the number of female riders in the morning period of the day. This ratio decreses slightly during the afternoon period and returns again in the night same initial value. \"Other\" gender users are of much lesser rartios.\n"
   ]
  },
  {
   "cell_type": "code",
   "execution_count": 47,
   "metadata": {},
   "outputs": [
    {
     "data": {
      "text/plain": [
       "(0.0, 80.0)"
      ]
     },
     "execution_count": 47,
     "metadata": {},
     "output_type": "execute_result"
    },
    {
     "data": {
      "text/plain": [
       "<Figure size 841.68x576 with 0 Axes>"
      ]
     },
     "metadata": {},
     "output_type": "display_data"
    },
    {
     "data": {
      "image/png": "[encoded data removed]",
      "text/plain": [
       "<Figure size 737.125x648 with 9 Axes>"
      ]
     },
     "metadata": {
      "needs_background": "light"
     },
     "output_type": "display_data"
    }
   ],
   "source": [
    "# set the figure size\n",
    "plt.figure(figsize=[11.69,8]);\n",
    "\n",
    "# creat a Facet Grid from seaborn lib\n",
    "g=sb.FacetGrid(gobike,row='end_time_day',  col='member_gender',sharey = False,hue='user_type');\n",
    "\n",
    "# specify variables and bins\n",
    "g.map_dataframe(sb.histplot,'duration_min', bins =100);\n",
    "\n",
    "# add legend to the graph\n",
    "g.add_legend();\n",
    "\n",
    "\n",
    "\n",
    "\n",
    "# write a function to prperly locate the titles\n",
    "def sr(i,j):\n",
    "    if j == 0:\n",
    "        gender='Male'\n",
    "    if j == 1:\n",
    "        gender='Female'\n",
    "    if j ==2:\n",
    "        gender ='Other'\n",
    "    if i == 0:\n",
    "        time='Night'\n",
    "    if i ==1:\n",
    "        time='Afternoon'\n",
    "    if i == 2:\n",
    "        time ='Morning'\n",
    "    ititle='{}-{}'.format(gender,time)\n",
    "    return ititle\n",
    "    \n",
    "# loop to write titles for the matrix\n",
    "title=[]\n",
    "for i in range(0,3):\n",
    "    for j in range(0,3):\n",
    "        title.append(sr(i,j))\n",
    " \n",
    "    \n",
    "    \n",
    "    \n",
    "# loop to set titles and grids  \n",
    "for i, ax in enumerate(g.axes.flat):\n",
    "    ax.grid()\n",
    "    ax.set_title(title[i])\n",
    "\n",
    "plt.xlim(0,80)"
   ]
  },
  {
   "cell_type": "markdown",
   "metadata": {},
   "source": [
    "Similar trend appears again for the short durations of bike riding for male femal and other types of gender at the end of the rides."
   ]
  },
  {
   "cell_type": "markdown",
   "metadata": {},
   "source": [
    "> At the end of your report, make sure that you export the notebook as an\n",
    "html file from the `File > Download as... > HTML` menu. Make sure you keep\n",
    "track of where the exported file goes, so you can put it in the same folder\n",
    "as this notebook for project submission. Also, make sure you remove all of\n",
    "the quote-formatted guide notes like this one before you finish your report!"
   ]
  },
  {
   "cell_type": "code",
   "execution_count": 48,
   "metadata": {},
   "outputs": [],
   "source": [
    "# export the cured data to a new csv file\n",
    "\n",
    "# gobike.to_csv(r'C:\\Users\\Motaal\\Desktop\\PYTHON\\ingpd\\NewCleanedDataset.csv',encoding= 'cp1252')"
   ]
  }
 ],
 "metadata": {
  "kernelspec": {
   "display_name": "Python 3",
   "language": "python",
   "name": "python3"
  },
  "language_info": {
   "codemirror_mode": {
    "name": "ipython",
    "version": 3
   },
   "file_extension": ".py",
   "mimetype": "text/x-python",
   "name": "python",
   "nbconvert_exporter": "python",
   "pygments_lexer": "ipython3",
   "version": "3.8.8"
  }
 },
 "nbformat": 4,
 "nbformat_minor": 2
}
